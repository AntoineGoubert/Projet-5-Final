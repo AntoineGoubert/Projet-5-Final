{
 "cells": [
  {
   "cell_type": "code",
   "execution_count": 89,
   "outputs": [],
   "source": [
    "import numpy as np\n",
    "import pandas as pd\n",
    "import matplotlib.pyplot as plt\n",
    "import seaborn as sns\n",
    "import time\n",
    "import pickle\n",
    "import os\n",
    "os.environ['TF_CPP_MIN_LOG_LEVEL'] = '2'\n",
    "\n",
    "path=\"D://Téléchargement//QueryResults.csv\"\n",
    "\n",
    "data=pd.read_csv(path)"
   ],
   "metadata": {
    "collapsed": false,
    "pycharm": {
     "name": "#%%\n"
    }
   }
  },
  {
   "cell_type": "markdown",
   "source": [
    "Fonctions de nettoyage de texte"
   ],
   "metadata": {
    "collapsed": false
   }
  },
  {
   "cell_type": "code",
   "execution_count": 90,
   "outputs": [
    {
     "name": "stderr",
     "output_type": "stream",
     "text": [
      "[nltk_data] Downloading package stopwords to\n",
      "[nltk_data]     C:\\Users\\antoi\\AppData\\Roaming\\nltk_data...\n",
      "[nltk_data]   Package stopwords is already up-to-date!\n",
      "[nltk_data] Downloading package punkt to\n",
      "[nltk_data]     C:\\Users\\antoi\\AppData\\Roaming\\nltk_data...\n",
      "[nltk_data]   Package punkt is already up-to-date!\n",
      "[nltk_data] Downloading package wordnet to\n",
      "[nltk_data]     C:\\Users\\antoi\\AppData\\Roaming\\nltk_data...\n",
      "[nltk_data]   Package wordnet is already up-to-date!\n",
      "[nltk_data] Downloading package omw-1.4 to\n",
      "[nltk_data]     C:\\Users\\antoi\\AppData\\Roaming\\nltk_data...\n",
      "[nltk_data]   Package omw-1.4 is already up-to-date!\n"
     ]
    }
   ],
   "source": [
    "data=data[:5000]\n",
    "# Tokenizer\n",
    "import nltk\n",
    "nltk.download('stopwords')\n",
    "nltk.download('punkt')\n",
    "nltk.download('wordnet')\n",
    "nltk.download('omw-1.4')\n",
    "nltk.download('averaged_perceptron_tagger')\n",
    "from nltk.tokenize import sent_tokenize, word_tokenize"
   ],
   "metadata": {
    "collapsed": false,
    "pycharm": {
     "name": "#%%\n"
    }
   }
  },
  {
   "cell_type": "code",
   "execution_count": 91,
   "outputs": [],
   "source": [
    "data_T=data.loc[:,['Title','Body','Tags']]\n",
    "\n",
    "def tokenizer_fct(sentence) :\n",
    "    sentence_clean = sentence.replace('+', 'plus').replace('/', ' ').replace('#', 'sharp')\n",
    "    word_tokens = word_tokenize(sentence_clean)\n",
    "    return word_tokens\n",
    "\n",
    "# Stop words\n",
    "from nltk.corpus import stopwords\n",
    "stop_w = list(set(stopwords.words('english'))) + ['[', ']', ',', '.', ':', '?', '(', ')']\n",
    "\n",
    "def stop_word_filter_fct(list_words) :\n",
    "    filtered_w = [w for w in list_words if not w in stop_w]\n",
    "    filtered_w2 = [w for w in filtered_w if len(w) > 2]\n",
    "    return filtered_w2\n",
    "\n",
    "# lower case et alpha\n",
    "def lower_start_fct(list_words) :\n",
    "    lw = [w.lower() for w in list_words if (not w.startswith(\"@\"))\n",
    "                                       and (not w.startswith(\"http\"))]\n",
    "    return lw\n",
    "\n",
    "\n",
    "# Lemmatizer (base d'un mot)\n",
    "from nltk.stem import WordNetLemmatizer\n",
    "\n",
    "def noun_extract(text):\n",
    "    tokens = nltk.word_tokenize(text)\n",
    "    tags_pos = nltk.pos_tag(tokens)\n",
    "    nouns = [word for word,pos in tags_pos if (pos == 'NN' or pos == 'NNP' or pos == 'NNS' or pos == 'NNPS')]\n",
    "    return(' '.join(nouns).lower())\n",
    "\n",
    "def lemma_fct(list_words) :\n",
    "    lemmatizer = WordNetLemmatizer()\n",
    "    lem_w = [lemmatizer.lemmatize(w) for w in list_words]\n",
    "    return lem_w\n",
    "\n",
    "# Fonction de préparation du texte pour le bag of words (Countvectorizer et Tf_idf, Word2Vec)\n",
    "def transform_bow_fct(desc_text) :\n",
    "    nouns=noun_extract(desc_text)\n",
    "    word_tokens = tokenizer_fct(nouns)\n",
    "    sw = stop_word_filter_fct(word_tokens)\n",
    "    lw = lower_start_fct(sw)\n",
    "    # lem_w = lemma_fct(lw)\n",
    "    transf_desc_text = ' '.join(lw)\n",
    "    return transf_desc_text\n",
    "\n",
    "# Fonction de préparation du texte pour le bag of words avec lemmatization\n",
    "def transform_bow_lem_fct(desc_text) :\n",
    "    nouns=noun_extract(desc_text)\n",
    "    word_tokens = tokenizer_fct(nouns)\n",
    "    sw = stop_word_filter_fct(word_tokens)\n",
    "    lw = lower_start_fct(sw)\n",
    "    lem_w = lemma_fct(lw)\n",
    "    transf_desc_text = ' '.join(lem_w)\n",
    "    return transf_desc_text\n",
    "\n",
    "# Fonction de préparation du texte pour le Deep learning (USE et BERT)\n",
    "def transform_dl_fct(desc_text) :\n",
    "    nouns=noun_extract(desc_text)\n",
    "    word_tokens = tokenizer_fct(nouns)\n",
    "#    sw = stop_word_filter_fct(word_tokens)\n",
    "    lw = lower_start_fct(word_tokens)\n",
    "    # lem_w = lemma_fct(lw)\n",
    "    transf_desc_text = ' '.join(lw)\n",
    "    return transf_desc_text"
   ],
   "metadata": {
    "collapsed": false,
    "pycharm": {
     "name": "#%%\n"
    }
   }
  },
  {
   "cell_type": "code",
   "execution_count": 92,
   "outputs": [
    {
     "data": {
      "text/plain": "                                                  Title  \\\n0           Heap corruption under Win32; how to locate?   \n1     Rails: How to set a background image in rails ...   \n2     Create a directly-executable cross-platform GU...   \n3     How do I make event callbacks into my win form...   \n4                  Pandas OHLC aggregation on OHLC data   \n...                                                 ...   \n4995  Entity Framework Code First Fluent Api: Adding...   \n4996     IIS Returning Old User Names to my application   \n4997  AtomicReferenceFieldUpdater - methods set, get...   \n4998  how to return json encoded form errors in symfony   \n4999  How do I convert a file's format from Unicode ...   \n\n                                                   Body  \\\n0     <p>I'm working on a <strong>multithreaded</str...   \n1     <p>I am using rails 3.2 and i have to set a ba...   \n2     <p>Python works on multiple platforms and can ...   \n3     <p>When you subscribe to an event on an object...   \n4     <p>I understand that OHLC re-sampling of time ...   \n...                                                 ...   \n4995  <p>I'm running EF 4.2 CF and want to create in...   \n4996  <p>Here's my scenario.  I created an applicati...   \n4997  <p><a href=\"http://docs.oracle.com/javase/6/do...   \n4998  <p>I want to create a webservice to which I su...   \n4999  <p>I use a 3rd party tool that outputs a file ...   \n\n                                                   Tags  \n0     <c++><windows><multithreading><debugging><memory>  \n1     <css><ruby-on-rails><ruby-on-rails-3><ruby-on-...  \n2     <python><user-interface><deployment><tkinter><...  \n3          <c#><.net><winforms><multithreading><events>  \n4     <python><python-2.7><pandas><dataframe><resamp...  \n...                                                 ...  \n4995  <c#><entity-framework-4><ef-code-first><data-a...  \n4996  <asp.net><security><iis><authentication><kerbe...  \n4997  <java><concurrency><volatile><atomicreference>...  \n4998                  <php><ajax><json><forms><symfony>  \n4999           <python><unicode><encoding><file><ascii>  \n\n[5000 rows x 3 columns]",
      "text/html": "<div>\n<style scoped>\n    .dataframe tbody tr th:only-of-type {\n        vertical-align: middle;\n    }\n\n    .dataframe tbody tr th {\n        vertical-align: top;\n    }\n\n    .dataframe thead th {\n        text-align: right;\n    }\n</style>\n<table border=\"1\" class=\"dataframe\">\n  <thead>\n    <tr style=\"text-align: right;\">\n      <th></th>\n      <th>Title</th>\n      <th>Body</th>\n      <th>Tags</th>\n    </tr>\n  </thead>\n  <tbody>\n    <tr>\n      <th>0</th>\n      <td>Heap corruption under Win32; how to locate?</td>\n      <td>&lt;p&gt;I'm working on a &lt;strong&gt;multithreaded&lt;/str...</td>\n      <td>&lt;c++&gt;&lt;windows&gt;&lt;multithreading&gt;&lt;debugging&gt;&lt;memory&gt;</td>\n    </tr>\n    <tr>\n      <th>1</th>\n      <td>Rails: How to set a background image in rails ...</td>\n      <td>&lt;p&gt;I am using rails 3.2 and i have to set a ba...</td>\n      <td>&lt;css&gt;&lt;ruby-on-rails&gt;&lt;ruby-on-rails-3&gt;&lt;ruby-on-...</td>\n    </tr>\n    <tr>\n      <th>2</th>\n      <td>Create a directly-executable cross-platform GU...</td>\n      <td>&lt;p&gt;Python works on multiple platforms and can ...</td>\n      <td>&lt;python&gt;&lt;user-interface&gt;&lt;deployment&gt;&lt;tkinter&gt;&lt;...</td>\n    </tr>\n    <tr>\n      <th>3</th>\n      <td>How do I make event callbacks into my win form...</td>\n      <td>&lt;p&gt;When you subscribe to an event on an object...</td>\n      <td>&lt;c#&gt;&lt;.net&gt;&lt;winforms&gt;&lt;multithreading&gt;&lt;events&gt;</td>\n    </tr>\n    <tr>\n      <th>4</th>\n      <td>Pandas OHLC aggregation on OHLC data</td>\n      <td>&lt;p&gt;I understand that OHLC re-sampling of time ...</td>\n      <td>&lt;python&gt;&lt;python-2.7&gt;&lt;pandas&gt;&lt;dataframe&gt;&lt;resamp...</td>\n    </tr>\n    <tr>\n      <th>...</th>\n      <td>...</td>\n      <td>...</td>\n      <td>...</td>\n    </tr>\n    <tr>\n      <th>4995</th>\n      <td>Entity Framework Code First Fluent Api: Adding...</td>\n      <td>&lt;p&gt;I'm running EF 4.2 CF and want to create in...</td>\n      <td>&lt;c#&gt;&lt;entity-framework-4&gt;&lt;ef-code-first&gt;&lt;data-a...</td>\n    </tr>\n    <tr>\n      <th>4996</th>\n      <td>IIS Returning Old User Names to my application</td>\n      <td>&lt;p&gt;Here's my scenario.  I created an applicati...</td>\n      <td>&lt;asp.net&gt;&lt;security&gt;&lt;iis&gt;&lt;authentication&gt;&lt;kerbe...</td>\n    </tr>\n    <tr>\n      <th>4997</th>\n      <td>AtomicReferenceFieldUpdater - methods set, get...</td>\n      <td>&lt;p&gt;&lt;a href=\"http://docs.oracle.com/javase/6/do...</td>\n      <td>&lt;java&gt;&lt;concurrency&gt;&lt;volatile&gt;&lt;atomicreference&gt;...</td>\n    </tr>\n    <tr>\n      <th>4998</th>\n      <td>how to return json encoded form errors in symfony</td>\n      <td>&lt;p&gt;I want to create a webservice to which I su...</td>\n      <td>&lt;php&gt;&lt;ajax&gt;&lt;json&gt;&lt;forms&gt;&lt;symfony&gt;</td>\n    </tr>\n    <tr>\n      <th>4999</th>\n      <td>How do I convert a file's format from Unicode ...</td>\n      <td>&lt;p&gt;I use a 3rd party tool that outputs a file ...</td>\n      <td>&lt;python&gt;&lt;unicode&gt;&lt;encoding&gt;&lt;file&gt;&lt;ascii&gt;</td>\n    </tr>\n  </tbody>\n</table>\n<p>5000 rows × 3 columns</p>\n</div>"
     },
     "execution_count": 92,
     "metadata": {},
     "output_type": "execute_result"
    }
   ],
   "source": [
    "data_T['Body'] =data_T['Title'] + ' ' + data_T['Body']\n",
    "datacopy=data_T.copy()"
   ],
   "metadata": {
    "collapsed": false,
    "pycharm": {
     "name": "#%%\n"
    }
   }
  },
  {
   "cell_type": "code",
   "execution_count": 93,
   "outputs": [],
   "source": [
    "data_T"
   ],
   "metadata": {
    "collapsed": false,
    "pycharm": {
     "name": "#%%\n"
    }
   }
  },
  {
   "cell_type": "code",
   "execution_count": 94,
   "outputs": [],
   "source": [
    "import re\n",
    "listebalise=['<p>','</p>','<pre>','</pre>','<code>','</code>','<strong>','</strong>','<em>','</em>','<mark>','</mark>','<ul>','</ul>','<ol>','</ol>','<br>','\\n','<blockquote>','</blockquote>']\n",
    "for k in range(len(data_T)):\n",
    "    result_test=re.split('<code>(.*)</code>',datacopy['Body'][k])\n",
    "    if len(result_test)==1:\n",
    "        datacopy['Body'][k]=result_test[0]\n",
    "    else:\n",
    "        datacopy['Body'][k]=' '.join([result_test[2*i] for i in range(len(result_test)//2)])\n",
    "    result_test=re.split('<li>(.*)</li>',datacopy['Body'][k])\n",
    "    if len(result_test)==1:\n",
    "        datacopy['Body'][k]=result_test[0]\n",
    "    else:\n",
    "        datacopy['Body'][k]=' '.join([result_test[2*i] for i in range(len(result_test)//2)])\n",
    "    temp=datacopy['Body'][k]\n",
    "    for i in listebalise:\n",
    "        temp=temp.replace(i,\" \")\n",
    "    data_T['Body'][k]=temp"
   ],
   "metadata": {
    "collapsed": false,
    "pycharm": {
     "name": "#%%\n"
    }
   }
  },
  {
   "cell_type": "code",
   "execution_count": 95,
   "outputs": [
    {
     "data": {
      "text/plain": "                                                  Title  \\\n0           Heap corruption under Win32; how to locate?   \n1     Rails: How to set a background image in rails ...   \n2     Create a directly-executable cross-platform GU...   \n3     How do I make event callbacks into my win form...   \n4                  Pandas OHLC aggregation on OHLC data   \n...                                                 ...   \n4995  Entity Framework Code First Fluent Api: Adding...   \n4996     IIS Returning Old User Names to my application   \n4997  AtomicReferenceFieldUpdater - methods set, get...   \n4998  how to return json encoded form errors in symfony   \n4999  How do I convert a file's format from Unicode ...   \n\n                                                   Body  \\\n0     <p>I'm working on a <strong>multithreaded</str...   \n1     <p>I am using rails 3.2 and i have to set a ba...   \n2     <p>Python works on multiple platforms and can ...   \n3     <p>When you subscribe to an event on an object...   \n4     <p>I understand that OHLC re-sampling of time ...   \n...                                                 ...   \n4995  <p>I'm running EF 4.2 CF and want to create in...   \n4996  <p>Here's my scenario.  I created an applicati...   \n4997  <p><a href=\"http://docs.oracle.com/javase/6/do...   \n4998  <p>I want to create a webservice to which I su...   \n4999  <p>I use a 3rd party tool that outputs a file ...   \n\n                                                   Tags  \\\n0     <c++><windows><multithreading><debugging><memory>   \n1     <css><ruby-on-rails><ruby-on-rails-3><ruby-on-...   \n2     <python><user-interface><deployment><tkinter><...   \n3          <c#><.net><winforms><multithreading><events>   \n4     <python><python-2.7><pandas><dataframe><resamp...   \n...                                                 ...   \n4995  <c#><entity-framework-4><ef-code-first><data-a...   \n4996  <asp.net><security><iis><authentication><kerbe...   \n4997  <java><concurrency><volatile><atomicreference>...   \n4998                  <php><ajax><json><forms><symfony>   \n4999           <python><unicode><encoding><file><ascii>   \n\n                                           sentence_bow  \\\n0     heap corruption win32 locate working strong mu...   \n1     rails how set background image rails css using...   \n2     create directly executable cross platform gui ...   \n3     how make event callbacks win forms thread safe...   \n4     pandas ohlc aggregation ohlc data understand o...   \n...                                                 ...   \n4995  entity framework code first fluent api adding ...   \n4996  iis returning old user names application here ...   \n4997  atomicreferencefieldupdater methods set get co...   \n4998  return json encoded form errors symfony want c...   \n4999  how convert file format unicode ascii using py...   \n\n                                       sentence_bow_lem  \\\n0     heap corruption win32 locate working strong mu...   \n1     rail how set background image rail cs using ra...   \n2     create directly executable cross platform gui ...   \n3     how make event callback win form thread safe w...   \n4     panda ohlc aggregation ohlc data understand oh...   \n...                                                 ...   \n4995  entity framework code first fluent api adding ...   \n4996  ii returning old user name application here sc...   \n4997  atomicreferencefieldupdater method set get com...   \n4998  return json encoded form error symfony want cr...   \n4999  how convert file format unicode ascii using py...   \n\n                                            sentence_dl  \\\n0     heap corruption under win32 ; how to locate ? ...   \n1     rails : how to set a background image in rails...   \n2     create a directly executable cross platform gu...   \n3     how do i make event callbacks into my win form...   \n4     pandas ohlc aggregation on ohlc data p i under...   \n...                                                 ...   \n4995  entity framework code first fluent api : addin...   \n4996  iis returning old user names to my application...   \n4997  atomicreferencefieldupdater methods set , get ...   \n4998  how to return json encoded form errors in symf...   \n4999  how do i convert a file 's format from unicode...   \n\n                                                   tags  \n0     [c++, windows, multithreading, debugging, memory]  \n1     [css, ruby-on-rails, ruby-on-rails-3, ruby-on-...  \n2     [python, user-interface, deployment, tkinter, ...  \n3        [c, #, .net, winforms, multithreading, events]  \n4     [python, python-2.7, pandas, dataframe, resamp...  \n...                                                 ...  \n4995  [c, #, entity-framework-4, ef-code-first, data...  \n4996  [asp.net, security, iis, authentication, kerbe...  \n4997  [java, concurrency, volatile, atomicreference,...  \n4998                  [php, ajax, json, forms, symfony]  \n4999           [python, unicode, encoding, file, ascii]  \n\n[5000 rows x 7 columns]",
      "text/html": "<div>\n<style scoped>\n    .dataframe tbody tr th:only-of-type {\n        vertical-align: middle;\n    }\n\n    .dataframe tbody tr th {\n        vertical-align: top;\n    }\n\n    .dataframe thead th {\n        text-align: right;\n    }\n</style>\n<table border=\"1\" class=\"dataframe\">\n  <thead>\n    <tr style=\"text-align: right;\">\n      <th></th>\n      <th>Title</th>\n      <th>Body</th>\n      <th>Tags</th>\n      <th>sentence_bow</th>\n      <th>sentence_bow_lem</th>\n      <th>sentence_dl</th>\n      <th>tags</th>\n    </tr>\n  </thead>\n  <tbody>\n    <tr>\n      <th>0</th>\n      <td>Heap corruption under Win32; how to locate?</td>\n      <td>&lt;p&gt;I'm working on a &lt;strong&gt;multithreaded&lt;/str...</td>\n      <td>&lt;c++&gt;&lt;windows&gt;&lt;multithreading&gt;&lt;debugging&gt;&lt;memory&gt;</td>\n      <td>heap corruption win32 locate working strong mu...</td>\n      <td>heap corruption win32 locate working strong mu...</td>\n      <td>heap corruption under win32 ; how to locate ? ...</td>\n      <td>[c++, windows, multithreading, debugging, memory]</td>\n    </tr>\n    <tr>\n      <th>1</th>\n      <td>Rails: How to set a background image in rails ...</td>\n      <td>&lt;p&gt;I am using rails 3.2 and i have to set a ba...</td>\n      <td>&lt;css&gt;&lt;ruby-on-rails&gt;&lt;ruby-on-rails-3&gt;&lt;ruby-on-...</td>\n      <td>rails how set background image rails css using...</td>\n      <td>rail how set background image rail cs using ra...</td>\n      <td>rails : how to set a background image in rails...</td>\n      <td>[css, ruby-on-rails, ruby-on-rails-3, ruby-on-...</td>\n    </tr>\n    <tr>\n      <th>2</th>\n      <td>Create a directly-executable cross-platform GU...</td>\n      <td>&lt;p&gt;Python works on multiple platforms and can ...</td>\n      <td>&lt;python&gt;&lt;user-interface&gt;&lt;deployment&gt;&lt;tkinter&gt;&lt;...</td>\n      <td>create directly executable cross platform gui ...</td>\n      <td>create directly executable cross platform gui ...</td>\n      <td>create a directly executable cross platform gu...</td>\n      <td>[python, user-interface, deployment, tkinter, ...</td>\n    </tr>\n    <tr>\n      <th>3</th>\n      <td>How do I make event callbacks into my win form...</td>\n      <td>&lt;p&gt;When you subscribe to an event on an object...</td>\n      <td>&lt;c#&gt;&lt;.net&gt;&lt;winforms&gt;&lt;multithreading&gt;&lt;events&gt;</td>\n      <td>how make event callbacks win forms thread safe...</td>\n      <td>how make event callback win form thread safe w...</td>\n      <td>how do i make event callbacks into my win form...</td>\n      <td>[c, #, .net, winforms, multithreading, events]</td>\n    </tr>\n    <tr>\n      <th>4</th>\n      <td>Pandas OHLC aggregation on OHLC data</td>\n      <td>&lt;p&gt;I understand that OHLC re-sampling of time ...</td>\n      <td>&lt;python&gt;&lt;python-2.7&gt;&lt;pandas&gt;&lt;dataframe&gt;&lt;resamp...</td>\n      <td>pandas ohlc aggregation ohlc data understand o...</td>\n      <td>panda ohlc aggregation ohlc data understand oh...</td>\n      <td>pandas ohlc aggregation on ohlc data p i under...</td>\n      <td>[python, python-2.7, pandas, dataframe, resamp...</td>\n    </tr>\n    <tr>\n      <th>...</th>\n      <td>...</td>\n      <td>...</td>\n      <td>...</td>\n      <td>...</td>\n      <td>...</td>\n      <td>...</td>\n      <td>...</td>\n    </tr>\n    <tr>\n      <th>4995</th>\n      <td>Entity Framework Code First Fluent Api: Adding...</td>\n      <td>&lt;p&gt;I'm running EF 4.2 CF and want to create in...</td>\n      <td>&lt;c#&gt;&lt;entity-framework-4&gt;&lt;ef-code-first&gt;&lt;data-a...</td>\n      <td>entity framework code first fluent api adding ...</td>\n      <td>entity framework code first fluent api adding ...</td>\n      <td>entity framework code first fluent api : addin...</td>\n      <td>[c, #, entity-framework-4, ef-code-first, data...</td>\n    </tr>\n    <tr>\n      <th>4996</th>\n      <td>IIS Returning Old User Names to my application</td>\n      <td>&lt;p&gt;Here's my scenario.  I created an applicati...</td>\n      <td>&lt;asp.net&gt;&lt;security&gt;&lt;iis&gt;&lt;authentication&gt;&lt;kerbe...</td>\n      <td>iis returning old user names application here ...</td>\n      <td>ii returning old user name application here sc...</td>\n      <td>iis returning old user names to my application...</td>\n      <td>[asp.net, security, iis, authentication, kerbe...</td>\n    </tr>\n    <tr>\n      <th>4997</th>\n      <td>AtomicReferenceFieldUpdater - methods set, get...</td>\n      <td>&lt;p&gt;&lt;a href=\"http://docs.oracle.com/javase/6/do...</td>\n      <td>&lt;java&gt;&lt;concurrency&gt;&lt;volatile&gt;&lt;atomicreference&gt;...</td>\n      <td>atomicreferencefieldupdater methods set get co...</td>\n      <td>atomicreferencefieldupdater method set get com...</td>\n      <td>atomicreferencefieldupdater methods set , get ...</td>\n      <td>[java, concurrency, volatile, atomicreference,...</td>\n    </tr>\n    <tr>\n      <th>4998</th>\n      <td>how to return json encoded form errors in symfony</td>\n      <td>&lt;p&gt;I want to create a webservice to which I su...</td>\n      <td>&lt;php&gt;&lt;ajax&gt;&lt;json&gt;&lt;forms&gt;&lt;symfony&gt;</td>\n      <td>return json encoded form errors symfony want c...</td>\n      <td>return json encoded form error symfony want cr...</td>\n      <td>how to return json encoded form errors in symf...</td>\n      <td>[php, ajax, json, forms, symfony]</td>\n    </tr>\n    <tr>\n      <th>4999</th>\n      <td>How do I convert a file's format from Unicode ...</td>\n      <td>&lt;p&gt;I use a 3rd party tool that outputs a file ...</td>\n      <td>&lt;python&gt;&lt;unicode&gt;&lt;encoding&gt;&lt;file&gt;&lt;ascii&gt;</td>\n      <td>how convert file format unicode ascii using py...</td>\n      <td>how convert file format unicode ascii using py...</td>\n      <td>how do i convert a file 's format from unicode...</td>\n      <td>[python, unicode, encoding, file, ascii]</td>\n    </tr>\n  </tbody>\n</table>\n<p>5000 rows × 7 columns</p>\n</div>"
     },
     "execution_count": 95,
     "metadata": {},
     "output_type": "execute_result"
    }
   ],
   "source": [
    "data_T"
   ],
   "metadata": {
    "collapsed": false,
    "pycharm": {
     "name": "#%%\n"
    }
   }
  },
  {
   "cell_type": "code",
   "execution_count": 96,
   "outputs": [],
   "source": [
    "data_T['sentence_bow'] = data_T['Body'].apply(lambda x : transform_bow_fct(x))\n",
    "data_T['sentence_bow_lem'] = data_T['Body'].apply(lambda x : transform_bow_lem_fct(x))\n",
    "data_T['sentence_dl'] = data_T['Body'].apply(lambda x : transform_dl_fct(x))"
   ],
   "metadata": {
    "collapsed": false,
    "pycharm": {
     "name": "#%%\n"
    }
   }
  },
  {
   "cell_type": "code",
   "execution_count": 97,
   "outputs": [
    {
     "data": {
      "text/plain": "Counter({'c++': 462,\n         'windows': 0,\n         'multithreading': 108,\n         'debugging': 54,\n         'memory': 117,\n         'css': 129,\n         'ruby-on-rails': 0,\n         'ruby-on-rails-3': 3,\n         'ruby-on-rails-3.2': 0,\n         'background-image': 0,\n         'python': 580,\n         'user-interface': 0,\n         'deployment': 18,\n         'tkinter': 0,\n         'release-management': 0,\n         'c': 802,\n         '#': 632,\n         '.net': 837,\n         'winforms': 0,\n         'events': 51,\n         'python-2.7': 0,\n         'pandas': 0,\n         'dataframe': 0,\n         'resampling': 1,\n         'javascript': 0,\n         'internet-explorer': 0,\n         'firebug': 8,\n         'javascript-debugger': 0,\n         '.net-3.5': 0,\n         'wia': 1,\n         'image-scanner': 0,\n         'linux': 182,\n         'bash': 84,\n         'unix': 64,\n         'coredump': 0,\n         'tcsh': 2,\n         'svn': 25,\n         'testing': 113,\n         'revision': 0,\n         'versions': 0,\n         'visual-studio': 137,\n         'visual-studio-2012': 0,\n         'msbuild': 0,\n         'generics': 26,\n         'collections': 21,\n         'class-design': 0,\n         'configuration': 0,\n         'encryption': 29,\n         'configuration-files': 0,\n         'performance': 0,\n         'optimization': 56,\n         'post-increment': 0,\n         'pre-increment': 0,\n         'oop': 104,\n         'android': 510,\n         'android-ndk': 0,\n         'java-native-interface': 0,\n         'native': 16,\n         'unsatisfiedlinkerror': 0,\n         'java': 1065,\n         'xml': 92,\n         'frameworks': 0,\n         'configurationmanager': 0,\n         'parallel-processing': 0,\n         'process': 109,\n         'multiprocessing': 0,\n         'algorithm': 116,\n         'math': 0,\n         'maps': 0,\n         'latitude-longitude': 0,\n         'haversine': 1,\n         'scala': 41,\n         'scalaz': 0,\n         'iterate': 3,\n         'transducer-machines': 1,\n         'scalaz-stream': 0,\n         'html': 253,\n         'sql': 576,\n         'sql-server': 0,\n         'textbox': 0,\n         'limit': 4,\n         'image': 132,\n         'resize': 0,\n         'image-scaling': 0,\n         'maven': 39,\n         'dependencies': 12,\n         'maven-2': 0,\n         'maven-metadata': 0,\n         'sql-server-2005': 0,\n         'sqldatatypes': 0,\n         'notnull': 0,\n         'emptydatatext': 0,\n         'security': 0,\n         'cookies': 0,\n         'xss': 6,\n         'httponly': 0,\n         'gcc': 44,\n         'symbols': 7,\n         'name-mangling': 2,\n         'wpf': 92,\n         'google-chrome': 50,\n         'webbrowser-control': 0,\n         'chromium-embedded': 0,\n         'arrays': 82,\n         'j': 1,\n         'apache': 0,\n         'macos': 76,\n         'ssl': 77,\n         'https': 0,\n         'mamp': 3,\n         'linq': 38,\n         'ienumerable': 3,\n         'iqueryable': 2,\n         'linq-to-objects': 0,\n         'string': 158,\n         'nullable': 0,\n         'visual-studio-2008': 0,\n         'formatting': 0,\n         'editor': 17,\n         'line-endings': 0,\n         'asp.net-mvc-5': 0,\n         'entity-framework-6': 0,\n         'ninject': 5,\n         'asp.net-identity': 0,\n         'cross-platform': 0,\n         'cpu': 26,\n         'diskspace': 0,\n         'authentication': 41,\n         'servlets': 18,\n         'single-sign-on': 0,\n         'multiple-domains': 0,\n         'ruby': 211,\n         'exception': 62,\n         'integer': 0,\n         'string-parsing': 0,\n         'android-studio': 1,\n         'adb': 5,\n         'logcat': 5,\n         'huawei-mobile-services': 0,\n         'splash-screen': 0,\n         'hotkeys': 0,\n         'language-agnostic': 0,\n         'inheritance': 36,\n         'composition': 0,\n         'aggregation': 3,\n         'gdb': 12,\n         'breakpoints': 0,\n         'memory-access': 0,\n         'objective-c': 0,\n         'winapi': 0,\n         'cygwin': 7,\n         'solid-principles': 0,\n         'design-principles': 0,\n         'interface-segregation-principle': 0,\n         'definition': 0,\n         'open-closed-principle': 0,\n         'documentation': 0,\n         'python-sphinx': 0,\n         'doxygen': 2,\n         'docstring': 0,\n         'dictionary': 22,\n         'attributes': 0,\n         'object': 300,\n         'metaprogramming': 0,\n         'mono': 10,\n         'unit-testing': 0,\n         'mocking': 17,\n         'jmockit': 1,\n         'static-block': 0,\n         'php': 197,\n         'date': 113,\n         'php-5.3': 0,\n         'php-5.4': 1,\n         'php4': 0,\n         'asp.net': 0,\n         'browser': 0,\n         'caching': 26,\n         'back-button': 0,\n         'tdd': 14,\n         'integration-testing': 0,\n         'testing-strategies': 2,\n         'ios': 479,\n         'xcode': 133,\n         'cuda': 3,\n         'clang': 0,\n         'redirect': 10,\n         'hook': 6,\n         'system-calls': 0,\n         'cross-browser': 0,\n         'textselection': 0,\n         'rdf': 3,\n         'semantics': 0,\n         'semantic-web': 0,\n         'owl': 3,\n         'ontology': 3,\n         'format': 0,\n         'printf': 0,\n         'stdstring': 0,\n         'dock': 0,\n         'docking': 0,\n         'appbar': 1,\n         'list': 91,\n         'sorting': 27,\n         'data-structures': 0,\n         '3d': 7,\n         'geometry': 0,\n         '2d': 5,\n         'photogrammetry': 0,\n         'reverseprojection': 0,\n         'perl': 20,\n         'penetration-testing': 0,\n         'memory-management': 0,\n         'stack': 25,\n         'dynamic-memory-allocation': 0,\n         'heap-memory': 0,\n         'gis': 14,\n         'concave-hull': 1,\n         'subdomain': 0,\n         'localhost': 0,\n         'wildcard': 2,\n         'wildcard-subdomain': 0,\n         'service': 94,\n         'broadcastreceiver': 0,\n         'data-access-app-block': 1,\n         'applocker': 0,\n         'variables': 0,\n         'naming': 13,\n         'specifications': 3,\n         'reserved-words': 0,\n         'asynchronous': 0,\n         'posix': 6,\n         'bsd': 4,\n         'aio': 3,\n         'speech-recognition': 0,\n         'voice': 5,\n         'ergonomics': 1,\n         'speech': 7,\n         'code-by-voice': 0,\n         'concurrency': 0,\n         'load-balancing': 0,\n         'scaling': 5,\n         'terracotta': 1,\n         'c++11': 0,\n         'stdasync': 0,\n         'packaged-task': 0,\n         'iphone': 304,\n         'uicollectionview': 0,\n         'uicollectionviewlayout': 0,\n         'shell': 75,\n         'class': 72,\n         'struct': 98,\n         'c++-faq': 0,\n         'asp.net-mvc': 0,\n         'nunit': 8,\n         'maven-3': 0,\n         'jython': 1,\n         'ase': 207,\n         'android-scripting': 0,\n         'database': 4,\n         'refactoring': 0,\n         'migration': 16,\n         'heap': 18,\n         'priority-queue': 0,\n         'pointers': 0,\n         'smart-pointers': 0,\n         'web-services': 0,\n         'rest': 53,\n         'soap': 0,\n         'xml-rpc': 0,\n         'json': 93,\n         'serialization': 0,\n         'json.net': 0,\n         'bdd': 5,\n         'jasmine': 3,\n         'qunit': 1,\n         'openssl': 0,\n         'pki': 12,\n         'elliptic-curve': 2,\n         'diffie-hellman': 0,\n         'http': 151,\n         'http-headers': 0,\n         'content-type': 3,\n         'coding-style': 12,\n         'naming-conventions': 0,\n         'member': 10,\n         'prefix': 0,\n         'database-design': 0,\n         'indexing': 0,\n         'ssh': 26,\n         'passwords': 0,\n         'openssh': 0,\n         'passphrase': 0,\n         'syntax': 39,\n         'operators': 15,\n         'app-store': 0,\n         'in-app-purchase': 0,\n         'app-store-connect': 0,\n         'storekit': 2,\n         'svg': 11,\n         'd3.js': 6,\n         'label': 16,\n         'force-layout': 0,\n         'pdf': 37,\n         'apache-fop': 0,\n         'docbook': 0,\n         'django': 114,\n         'http-status-code-404': 0,\n         'django-settings': 0,\n         'django-media': 0,\n         'com': 286,\n         'uac': 3,\n         'elevation': 1,\n         'moniker': 1,\n         'datetime': 0,\n         'iso8601': 0,\n         'datetime-parsing': 0,\n         'rfc3339': 1,\n         'map': 111,\n         'hashtable': 0,\n         'complexity-theory': 0,\n         'reactjs': 37,\n         'jwt': 5,\n         'local-storage': 0,\n         'graphics': 0,\n         'coordinates': 1,\n         'synchronization': 0,\n         'thread-safety': 9,\n         'synchronized': 0,\n         'typescript': 0,\n         'angular': 74,\n         'ipc': 5,\n         'electron': 4,\n         'windows-services': 0,\n         'process-elevation': 0,\n         'csv': 19,\n         'unicode': 27,\n         'xmlhttprequest': 0,\n         'jsonp': 0,\n         'node.js': 78,\n         'mongodb': 24,\n         'angularjs': 3,\n         'handlebars.js': 3,\n         'pug': 1,\n         'dll': 11,\n         'shared-libraries': 0,\n         'static-linking': 0,\n         'dynamic-linking': 0,\n         'visual-c++': 0,\n         'c99': 3,\n         'version-control': 0,\n         'stored-procedures': 0,\n         'malloc': 7,\n         'allocation': 0,\n         'vba': 9,\n         'vb6': 1,\n         'ms-project': 0,\n         'command-line': 5,\n         'grep': 12,\n         'find': 15,\n         'pcregrep': 0,\n         'interface': 0,\n         'static-methods': 0,\n         'casting': 5,\n         '64-bit': 0,\n         '32-bit': 4,\n         'open-source': 7,\n         'ftp': 5,\n         'sftp': 0,\n         'tomcat': 25,\n         'jakarta-ee': 27,\n         'web-applications': 0,\n         'startup': 0,\n         'api': 104,\n         'geolocation': 0,\n         'geocoding': 3,\n         'street-address': 0,\n         'excel': 16,\n         'post': 22,\n         'serverxmlhttp': 0,\n         'mysql': 1,\n         'validation': 0,\n         'global-variables': 0,\n         'mysql-5.7': 0,\n         'change-password': 0,\n         'cocoa-touch': 0,\n         'uiimagepickercontroller': 0,\n         'image-manipulation': 4,\n         'mapping': 1,\n         'cocoa': 161,\n         'mongoose': 5,\n         'eclipse': 0,\n         'eclipse-plugin': 0,\n         'eclipse-rcp': 0,\n         'rcp': 4,\n         'eclipse-pde': 0,\n         'batch-file': 0,\n         'cmd': 14,\n         'dos': 4,\n         'query-optimization': 0,\n         'std-pair': 0,\n         'base-class-library': 0,\n         'gnu': 9,\n         'jquery': 237,\n         'jquery-ui': 0,\n         'modal-dialog': 0,\n         'jquery-ui-dialog': 0,\n         'logging': 30,\n         'stack-trace': 0,\n         'system.diagnostics': 0,\n         'xml-serialization': 0,\n         'soaphttpclientprotocol': 0,\n         'utf-8': 16,\n         'character-encoding': 0,\n         'utf-16': 3,\n         'multibyte': 0,\n         'ajax': 62,\n         'navigation': 36,\n         'fragment-identifier': 0,\n         'hashchange': 0,\n         'qt': 15,\n         'dialog': 15,\n         'pyqt': 14,\n         'import': 0,\n         'include': 6,\n         'camera': 12,\n         'uiimage': 0,\n         'function': 0,\n         'concatenation': 0,\n         'rollback': 0,\n         'sqltransaction': 0,\n         'constructor': 1,\n         'default-constructor': 0,\n         'most-vexing-parse': 1,\n         'compiler-construction': 0,\n         'programming-languages': 0,\n         'clr': 9,\n         'language-features': 0,\n         'daemon': 0,\n         'mono-service': 0,\n         'indexof': 0,\n         'audio': 37,\n         'dhtml': 0,\n         'architecture': 25,\n         'compilation': 0,\n         'header-files': 0,\n         'circular-dependency': 0,\n         'linker': 21,\n         'dylib': 0,\n         'mach-o': 1,\n         'cgaffinetransform': 0,\n         'uianimation': 0,\n         'suppress-warnings': 0,\n         'string-concatenation': 0,\n         'group-concat': 0,\n         'vector': 18,\n         'stl': 28,\n         'stdvector': 0,\n         'cryptography': 0,\n         'plugins': 9,\n         'jquery-plugins': 0,\n         'sql-convert': 0,\n         'firefox': 24,\n         'proxy': 17,\n         'installation': 20,\n         'centos7': 0,\n         'yum': 2,\n         'gcc5': 0,\n         '-3.0': 5,\n         'common-table-expression': 0,\n         'workflow': 4,\n         'postgresql': 0,\n         'heroku': 16,\n         'spring': 151,\n         'spring-mvc': 0,\n         'jpa': 57,\n         'repository': 20,\n         'pdo': 8,\n         'pdostatement': 0,\n         'static': 0,\n         'layout': 0,\n         'mathematical-optimization': 0,\n         'theory': 11,\n         'np-complete': 0,\n         'matrix': 0,\n         'linear-algebra': 0,\n         'matrix-inverse': 0,\n         'iframe': 0,\n         'access-control': 1,\n         'document': 0,\n         'blob': 6,\n         'document-management': 0,\n         'guid': 5,\n         'uuid': 2,\n         'design-patterns': 0,\n         'enums': 14,\n         'enumeration': 3,\n         'type-safety': 3,\n         'c++03': 0,\n         'collision-detection': 0,\n         'polygon': 9,\n         'point-in-polygon': 0,\n         'asp.net-mvc-routing': 0,\n         'friendly-url': 0,\n         'slug': 5,\n         'terminology': 0,\n         'currying': 2,\n         'partial-application': 0,\n         'swing': 16,\n         'jpanel': 0,\n         'layout-manager': 0,\n         'cardlayout': 0,\n         'url': 65,\n         'encoding': 30,\n         'urlencode': 0,\n         'widget': 0,\n         'css-float': 0,\n         'clearfix': 0,\n         'methods': 27,\n         'jax-ws': 2,\n         'jax-rs': 8,\n         'cors': 16,\n         'loops': 0,\n         'android-intent': 0,\n         'whatsapp': 1,\n         'start-activity': 0,\n         'uinavigationbar': 0,\n         'uitoolbar': 0,\n         'core-animation': 0,\n         'calayer': 7,\n         'mstest': 5,\n         'normalization': 0,\n         'accent-insensitive': 1,\n         'text-normalization': 0,\n         'versioning': 0,\n         'entity-framework': 0,\n         'ef-code-first': 0,\n         'one-to-one': 3,\n         'ef-fluent-api': 0,\n         'linq-to-sql': 0,\n         'connection-string': 0,\n         'file-io': 0,\n         'filesystems': 0,\n         'buffer': 15,\n         'time-complexity': 0,\n         'javascript-objects': 0,\n         'string-length': 0,\n         'dom': 73,\n         'xpath': 0,\n         'google-chrome-devtools': 0,\n         'datatable': 5,\n         'asqueryable': 1,\n         'datacolumncollection': 1,\n         'text': 93,\n         'similarity': 6,\n         'asp.net-web-api': 0,\n         'linked-list': 0,\n         '.net-core': 0,\n         '.net-framework-version': 0,\n         'notifications': 16,\n         'visualsvn-server': 0,\n         'svn-hooks': 0,\n         'hash': 43,\n         'types': 66,\n         'responsive-design': 0,\n         'fluid-layout': 0,\n         'fluid-images': 0,\n         'triggers': 3,\n         'listbox': 0,\n         'itemtemplate': 1,\n         'event-triggers': 0,\n         'httpclient': 0,\n         'httpwebresponse': 0,\n         'backgroundworker': 0,\n         'delphi': 15,\n         'interop': 0,\n         'extjs': 2,\n         'yui': 1,\n         'mootools': 1,\n         'hibernate': 55,\n         'session': 27,\n         'objective-c-blocks': 0,\n         'grand-central-dispatch': 4,\n         'file': 173,\n         'pipe': 0,\n         'stdout': 0,\n         'stdin': 5,\n         'pass-by-reference': 0,\n         'constants': 0,\n         'pass-by-value': 4,\n         'dependency-injection': 15,\n         'scope': 19,\n         'dagger-2': 0,\n         'assemblies': 0,\n         'x86': 48,\n         'x86-64': 0,\n         'spring-boot': 0,\n         'resources': 9,\n         'spring-properties': 0,\n         'templating': 1,\n         'invoice': 0,\n         'extension-methods': 0,\n         'linq-query-syntax': 0,\n         'mobile': 21,\n         'dpi': 3,\n         'ppi': 1,\n         'templates': 22,\n         'tuples': 8,\n         'iterable-unpacking': 0,\n         'virtual-machine': 0,\n         'virtualenv': 10,\n         'vagrant': 0,\n         'locking': 19,\n         'race-condition': 2,\n         'android-support-library': 0,\n         'android-4.0-ice-cream-sandwich': 0,\n         'android-actionbar-compat': 0,\n         'android-compatibility': 0,\n         'safari': 13,\n         'fixed': 3,\n         'python-3.x': 0,\n         'element': 11,\n         'uitableview': 0,\n         'background-color': 0,\n         'vb.net': 0,\n         'filesize': 0,\n         'human-readable': 1,\n         'junit': 17,\n         'junit4': 0,\n         'assert': 0,\n         'core-foundation': 0,\n         'xsd': 8,\n         'byte-order-mark': 0,\n         'data-binding': 0,\n         'mvvm': 30,\n         'dependency-properties': 0,\n         'tsql': 0,\n         'lines-of-code': 0,\n         'console': 0,\n         'keyboard': 0,\n         'blocking': 2,\n         'nonblocking': 0,\n         'parameters': 0,\n         'sql-injection': 0,\n         'parameterized': 2,\n         'google-maps': 0,\n         'survey': 1,\n         'esri': 1,\n         'osgeo': 0,\n         'hashmap': 0,\n         'treemap': 0,\n         'ios-simulator': 0,\n         'printing': 0,\n         'macros': 3,\n         'ostringstream': 0,\n         'webserver': 0,\n         'jetty': 0,\n         'search': 0,\n         'big-o': 7,\n         'interval-intersection': 0,\n         'certificate': 18,\n         'exe': 29,\n         'sign': 104,\n         'colors': 17,\n         'background': 0,\n         'android-actionbar': 0,\n         'navigation-drawer': 0,\n         'razor': 14,\n         'file-upload': 0,\n         'upload': 0,\n         'html-helper': 0,\n         'triplestore': 0,\n         'google-maps-api-3': 0,\n         'sql-server-2008': 0,\n         'datetime2': 0,\n         'ado.net': 0,\n         'vim': 10,\n         'forms': 0,\n         'twitter-bootstrap': 0,\n         'boost': 29,\n         'operator-overloading': 0,\n         'functor': 0,\n         'function-call-operator': 0,\n         'abstract-class': 0,\n         'pure-virtual': 0,\n         'webkit': 0,\n         'numpy': 66,\n         'matplotlib': 0,\n         'spatial': 4,\n         'contour': 2,\n         'db2': 2,\n         'insert-update': 0,\n         'upsert': 2,\n         'visual-studio-2005': 0,\n         'strongname': 1,\n         'google-app-engine': 8,\n         'azure': 9,\n         'azure-functions': 0,\n         'nuget-package': 0,\n         'azure-web-app-service': 0,\n         'garbage-collection': 0,\n         'imagemagick': 0,\n         'jpeg': 0,\n         'python-imaging-library': 0,\n         'anonymous-types': 0,\n         'datacontractjsonserializer': 0,\n         'json-serialization': 0,\n         'nsurlconnection': 0,\n         'graph': 61,\n         'plot': 47,\n         'visualization': 12,\n         'primary-key': 0,\n         'innodb': 2,\n         'myisam': 2,\n         'arcgis-js-api': 0,\n         'proj4js': 1,\n         'uiwebview': 0,\n         'numbers': 10,\n         'interpolation': 0,\n         'global': 0,\n         'interrupt': 0,\n         'volatile': 6,\n         'opengl': 16,\n         'wxpython': 0,\n         'pyopengl': 0,\n         'xslt': 8,\n         'boolean': 11,\n         'xslt-1.0': 0,\n         'xslt-2.0': 1,\n         'header': 0,\n         'organization': 3,\n         'setup-project': 0,\n         'visual-studio-setup-proje': 0,\n         'restful-authentication': 0,\n         'angular-http-interceptors': 0,\n         'equality': 6,\n         'equality-operator': 0,\n         'identity-operator': 0,\n         'silverlight': 9,\n         'xaml': 31,\n         'command': 0,\n         'lookup': 4,\n         'binary-search': 0,\n         'spring-security': 0,\n         'xhtml': 0,\n         'firefox-addon': 0,\n         'selection': 0,\n         'android-listview': 0,\n         'android-fragments': 0,\n         'simplecursoradapter': 0,\n         'android-cursorloader': 0,\n         'webforms': 0,\n         'treeview': 0,\n         'networking': 18,\n         'udp': 2,\n         'protocols': 8,\n         'voip': 2,\n         'rtp': 5,\n         'memory-leaks': 0,\n         'escaping': 0,\n         'meta': 12,\n         'owasp': 2,\n         'etl': 2,\n         'routing': 0,\n         'app-config': 0,\n         'custom-sections': 1,\n         'soft-delete': 1,\n         'hard-delete': 0,\n         'deadlock': 5,\n         'timer': 0,\n         'sleep': 4,\n         'delayed-execution': 0,\n         'badge': 1,\n         'nsdocktile': 0,\n         'kotlin': 5,\n         'viewmodel': 0,\n         'kodein': 1,\n         'rspec': 10,\n         'cucumber': 3,\n         'rspec-stories': 0,\n         'amazon-s3': 0,\n         'directory': 20,\n         'asp.net-web-api2': 0,\n         'swagger-ui': 0,\n         'swashbuckle': 1,\n         'pinvoke': 0,\n         'parent': 8,\n         'managed': 9,\n         'build-process': 0,\n         'cmake': 7,\n         'ant': 44,\n         'subversive': 1,\n         'artificial-intelligence': 0,\n         'path-finding': 0,\n         'a-star': 0,\n         'dijkstra': 0,\n         'uitextfield': 0,\n         'compiler-optimization': 0,\n         'simd': 5,\n         'auto-vectorization': 0,\n         'vector-processing': 0,\n         'cross-domain': 0,\n         'cross-site': 1,\n         'scheduled-tasks': 0,\n         'scheduling': 4,\n         'executorservice': 0,\n         'mp3': 3,\n         'metadata': 0,\n         'id3': 3,\n         'albumart': 1,\n         'latex': 3,\n         'pdf-generation': 0,\n         'exception-handling': 0,\n         'notimplementedexception': 0,\n         'notsupportedexception': 0,\n         'inversion-of-control': 0,\n         'unity-container': 4,\n         'enterprise-library': 0,\n         'continuous-integration': 0,\n         'hudson': 8,\n         'jenkins': 10,\n         '32bit-64bit': 0,\n         'porting': 0,\n         'video': 0,\n         'youtube': 0,\n         'youtube-api': 0,\n         'reporting-services': 0,\n         'checkbox': 5,\n         'selected': 0,\n         'checked': 3,\n         'data-migration': 0,\n         'schema-migration': 0,\n         'profiling': 7,\n         'drupal': 3,\n         'comparison': 0,\n         'enterprise': 0,\n         'arguments': 11,\n         'django-models': 0,\n         'regex': 41,\n         'markup': 3,\n         'yaml': 7,\n         'parsing': 41,\n         'viewstate': 0,\n         'floating-point': 0,\n         'compression': 0,\n         'gzip': 0,\n         'archive': 0,\n         'zlib': 0,\n         'random-access': 0,\n         'merge': 13,\n         'diff': 11,\n         'scripting': 20,\n         'standards': 0,\n         'ksh': 3,\n         'vbo': 2,\n         'vertex-buffer': 0,\n         'code-generation': 5,\n         'log4net': 5,\n         'external': 0,\n         'django-templates': 0,\n         'media': 11,\n         'binding': 33,\n         'text-formatting': 0,\n         'python-2.x': 0,\n         'express': 0,\n         'passport.js': 0,\n         'swift': 88,\n         'uilabel': 0,\n         'nsrange': 0,\n         'uiscrollview': 0,\n         'zooming': 5,\n         'jsf': 26,\n         'integration': 0,\n         'managed-bean': 0,\n         'input': 0,\n         'bitmap': 0,\n         'image-compression': 0,\n         'join': 27,\n         'laravel': 28,\n         'sizeof': 0,\n         '.htaccess': 7,\n         'password-protection': 0,\n         'tensorflow': 0,\n         'machine-learning': 0,\n         'keras': 14,\n         'deep-learning': 0,\n         'plugin-architecture': 0,\n         'overwrite': 1,\n         'carriage-return': 0,\n         'manifest': 1,\n         'regfreecom': 0,\n         'typelib': 0,\n         'initialization': 0,\n         'glossary': 3,\n         'jboss': 8,\n         'photo': 5,\n         'thymeleaf': 2,\n         'oracle': 0,\n         'pivot': 4,\n         'string-aggregation': 0,\n         'language-design': 0,\n         'innovation': 1,\n         'precision': 0,\n         'zero': 5,\n         'haskell': 27,\n         'f': 7,\n         'functional-programming': 0,\n         'erlang': 0,\n         'clojure': 8,\n         'sqldatasource': 0,\n         'animation': 0,\n         'cocos2d-iphone': 0,\n         'windows-forms-designer': 0,\n         'mod-python': 0,\n         'computer-science': 0,\n         'query-string': 0,\n         'controller': 46,\n         'fibonacci-heap': 0,\n         'io': 13,\n         'system-administration': 0,\n         'iostat': 0,\n         'get': 33,\n         'http-method': 0,\n         'twitter-bootstrap-3': 0,\n         'select': 17,\n         'nested': 6,\n         'lisp': 6,\n         'poker': 2,\n         'jatha': 1,\n         'group-by': 6,\n         'pandas-groupby': 0,\n         'nan': 9,\n         'filter': 12,\n         'angular-ui': 2,\n         'typeahead': 0,\n         'foreign-keys': 0,\n         'idioms': 1,\n         'load': 61,\n         'stress-testing': 0,\n         'qa': 1,\n         'stream': 33,\n         'iostream': 0,\n         'timezone': 0,\n         'upnp': 1,\n         'dlna': 1,\n         'iis': 27,\n         'uibutton': 0,\n         'quartz-graphics': 0,\n         'apache-flex': 0,\n         'actionscript': 0,\n         'base64': 0,\n         'http-authentication': 0,\n         'urlrequest': 0,\n         'language-lawyer': 0,\n         'uniform-initialization': 0,\n         'list-initialization': 0,\n         'locale': 0,\n         'time': 79,\n         'view': 157,\n         'chronometer': 1,\n         'yacc': 3,\n         'lex': 9,\n         'android-service': 0,\n         'intentfilter': 0,\n         'random': 0,\n         'distribution': 6,\n         'probability': 0,\n         'subprocess': 0,\n         'popen': 3,\n         'ruby-on-rails-4': 0,\n         'x-frame-options': 0,\n         'google-api': 0,\n         'google-finance': 0,\n         'powershell': 0,\n         'pfx': 1,\n         'jks': 4,\n         'ip': 4,\n         'ip-address': 0,\n         'png': 6,\n         'tiff': 3,\n         'app-data': 1,\n         'localization': 0,\n         'model-binders': 0,\n         'reflection': 20,\n         'instantiation': 0,\n         'mingw': 9,\n         'wine': 1,\n         'xml-comments': 0,\n         'relativesource': 1,\n         'queue': 15,\n         'orm': 340,\n         'jdo': 1,\n         'mkdir': 2,\n         'mv': 1,\n         'monitoring': 6,\n         'client-side': 0,\n         'timing': 1,\n         'full-text-search': 0,\n         'relevance': 1,\n         'pagination': 5,\n         'cython': 2,\n         ...})"
     },
     "execution_count": 97,
     "metadata": {},
     "output_type": "execute_result"
    }
   ],
   "source": [
    "from collections import Counter\n",
    "def tokenizer_fct_tags(sentence) :\n",
    "    sentence_clean = sentence.replace('<', ' ').replace('>', ' ').replace('+', 'plus')\n",
    "    word_tokens = word_tokenize(sentence_clean)\n",
    "    return word_tokens\n",
    "\n",
    "\n",
    "data_T['tags']=data['Tags'].apply(lambda x : tokenizer_fct_tags(x))\n",
    "\n",
    "\n",
    "list_of_tags = []\n",
    "for item in data_T['tags']:\n",
    "    for word in item:\n",
    "        if not word in list_of_tags:\n",
    "            list_of_tags.append(word)\n",
    "\n",
    "\n",
    "list_of_all_tags = []\n",
    "for item in data_T['tags']:\n",
    "    for word in item:\n",
    "        list_of_all_tags.append(word)"
   ],
   "metadata": {
    "collapsed": false,
    "pycharm": {
     "name": "#%%\n"
    }
   }
  },
  {
   "cell_type": "code",
   "execution_count": 98,
   "outputs": [
    {
     "name": "stdout",
     "output_type": "stream",
     "text": [
      "most_occurs [('c++', 462), ('multithreading', 108), ('memory', 117), ('css', 129), ('python', 580), ('c', 802), ('#', 632), ('.net', 837), ('linux', 182), ('bash', 84), ('testing', 113), ('visual-studio', 137), ('oop', 104), ('android', 510), ('java', 1065), ('xml', 92), ('process', 109), ('algorithm', 116), ('html', 253), ('sql', 576), ('image', 132), ('wpf', 92), ('arrays', 82), ('string', 158), ('ruby', 211), ('object', 300), ('php', 197), ('date', 113), ('ios', 479), ('xcode', 133), ('list', 91), ('service', 94), ('iphone', 304), ('struct', 98), ('ase', 207), ('json', 93), ('http', 151), ('django', 114), ('com', 286), ('map', 111), ('api', 104), ('cocoa', 161), ('jquery', 237), ('spring', 151), ('text', 93), ('file', 173), ('sign', 104), ('swift', 88), ('view', 157), ('orm', 340), ('uri', 95), ('git', 109), ('int', 341), ('ram', 214), ('ear', 97), ('ria', 116), ('mat', 128), ('window', 181), ('web', 94), ('out', 101), ('pac', 116)]\n"
     ]
    }
   ],
   "source": [
    "data_T"
   ],
   "metadata": {
    "collapsed": false,
    "pycharm": {
     "name": "#%%\n"
    }
   }
  },
  {
   "cell_type": "code",
   "execution_count": 99,
   "outputs": [
    {
     "name": "stdout",
     "output_type": "stream",
     "text": [
      "25646\n"
     ]
    }
   ],
   "source": [
    "counts = Counter(list_of_all_tags)\n",
    "l2=list_of_tags.copy()\n",
    "for k in l2:\n",
    "    for i in list_of_tags:\n",
    "        if k in i and k!=i and len(k)>2:\n",
    "            counts[k]+=counts[i]\n",
    "            counts[i]=0\n",
    "            list_of_tags.remove(i)"
   ],
   "metadata": {
    "collapsed": false,
    "pycharm": {
     "name": "#%%\n"
    }
   }
  },
  {
   "cell_type": "code",
   "execution_count": 100,
   "outputs": [
    {
     "data": {
      "text/plain": "                                                  Title  \\\n0           Heap corruption under Win32; how to locate?   \n1     Rails: How to set a background image in rails ...   \n2     Create a directly-executable cross-platform GU...   \n3     How do I make event callbacks into my win form...   \n4                  Pandas OHLC aggregation on OHLC data   \n...                                                 ...   \n4995  Entity Framework Code First Fluent Api: Adding...   \n4996     IIS Returning Old User Names to my application   \n4997  AtomicReferenceFieldUpdater - methods set, get...   \n4998  how to return json encoded form errors in symfony   \n4999  How do I convert a file's format from Unicode ...   \n\n                                                   Body  \\\n0     <p>I'm working on a <strong>multithreaded</str...   \n1     <p>I am using rails 3.2 and i have to set a ba...   \n2     <p>Python works on multiple platforms and can ...   \n3     <p>When you subscribe to an event on an object...   \n4     <p>I understand that OHLC re-sampling of time ...   \n...                                                 ...   \n4995  <p>I'm running EF 4.2 CF and want to create in...   \n4996  <p>Here's my scenario.  I created an applicati...   \n4997  <p><a href=\"http://docs.oracle.com/javase/6/do...   \n4998  <p>I want to create a webservice to which I su...   \n4999  <p>I use a 3rd party tool that outputs a file ...   \n\n                                                   Tags  \\\n0     <c++><windows><multithreading><debugging><memory>   \n1     <css><ruby-on-rails><ruby-on-rails-3><ruby-on-...   \n2     <python><user-interface><deployment><tkinter><...   \n3          <c#><.net><winforms><multithreading><events>   \n4     <python><python-2.7><pandas><dataframe><resamp...   \n...                                                 ...   \n4995  <c#><entity-framework-4><ef-code-first><data-a...   \n4996  <asp.net><security><iis><authentication><kerbe...   \n4997  <java><concurrency><volatile><atomicreference>...   \n4998                  <php><ajax><json><forms><symfony>   \n4999           <python><unicode><encoding><file><ascii>   \n\n                                           sentence_bow  \\\n0     heap corruption win32 locate working strong mu...   \n1     rails how set background image rails css using...   \n2     create directly executable cross platform gui ...   \n3     how make event callbacks win forms thread safe...   \n4     pandas ohlc aggregation ohlc data understand o...   \n...                                                 ...   \n4995  entity framework code first fluent api adding ...   \n4996  iis returning old user names application here ...   \n4997  atomicreferencefieldupdater methods set get co...   \n4998  return json encoded form errors symfony want c...   \n4999  how convert file format unicode ascii using py...   \n\n                                       sentence_bow_lem  \\\n0     heap corruption win32 locate working strong mu...   \n1     rail how set background image rail cs using ra...   \n2     create directly executable cross platform gui ...   \n3     how make event callback win form thread safe w...   \n4     panda ohlc aggregation ohlc data understand oh...   \n...                                                 ...   \n4995  entity framework code first fluent api adding ...   \n4996  ii returning old user name application here sc...   \n4997  atomicreferencefieldupdater method set get com...   \n4998  return json encoded form error symfony want cr...   \n4999  how convert file format unicode ascii using py...   \n\n                                            sentence_dl    tags  \n0     heap corruption under win32 ; how to locate ? ...     c++  \n1     rails : how to set a background image in rails...     css  \n2     create a directly executable cross platform gu...  python  \n3     how do i make event callbacks into my win form...       c  \n4     pandas ohlc aggregation on ohlc data p i under...  python  \n...                                                 ...     ...  \n4995  entity framework code first fluent api : addin...       c  \n4996  iis returning old user names to my application...   other  \n4997  atomicreferencefieldupdater methods set , get ...    java  \n4998  how to return json encoded form errors in symf...     php  \n4999  how do i convert a file 's format from unicode...  python  \n\n[5000 rows x 7 columns]",
      "text/html": "<div>\n<style scoped>\n    .dataframe tbody tr th:only-of-type {\n        vertical-align: middle;\n    }\n\n    .dataframe tbody tr th {\n        vertical-align: top;\n    }\n\n    .dataframe thead th {\n        text-align: right;\n    }\n</style>\n<table border=\"1\" class=\"dataframe\">\n  <thead>\n    <tr style=\"text-align: right;\">\n      <th></th>\n      <th>Title</th>\n      <th>Body</th>\n      <th>Tags</th>\n      <th>sentence_bow</th>\n      <th>sentence_bow_lem</th>\n      <th>sentence_dl</th>\n      <th>tags</th>\n    </tr>\n  </thead>\n  <tbody>\n    <tr>\n      <th>0</th>\n      <td>Heap corruption under Win32; how to locate?</td>\n      <td>&lt;p&gt;I'm working on a &lt;strong&gt;multithreaded&lt;/str...</td>\n      <td>&lt;c++&gt;&lt;windows&gt;&lt;multithreading&gt;&lt;debugging&gt;&lt;memory&gt;</td>\n      <td>heap corruption win32 locate working strong mu...</td>\n      <td>heap corruption win32 locate working strong mu...</td>\n      <td>heap corruption under win32 ; how to locate ? ...</td>\n      <td>c++</td>\n    </tr>\n    <tr>\n      <th>1</th>\n      <td>Rails: How to set a background image in rails ...</td>\n      <td>&lt;p&gt;I am using rails 3.2 and i have to set a ba...</td>\n      <td>&lt;css&gt;&lt;ruby-on-rails&gt;&lt;ruby-on-rails-3&gt;&lt;ruby-on-...</td>\n      <td>rails how set background image rails css using...</td>\n      <td>rail how set background image rail cs using ra...</td>\n      <td>rails : how to set a background image in rails...</td>\n      <td>css</td>\n    </tr>\n    <tr>\n      <th>2</th>\n      <td>Create a directly-executable cross-platform GU...</td>\n      <td>&lt;p&gt;Python works on multiple platforms and can ...</td>\n      <td>&lt;python&gt;&lt;user-interface&gt;&lt;deployment&gt;&lt;tkinter&gt;&lt;...</td>\n      <td>create directly executable cross platform gui ...</td>\n      <td>create directly executable cross platform gui ...</td>\n      <td>create a directly executable cross platform gu...</td>\n      <td>python</td>\n    </tr>\n    <tr>\n      <th>3</th>\n      <td>How do I make event callbacks into my win form...</td>\n      <td>&lt;p&gt;When you subscribe to an event on an object...</td>\n      <td>&lt;c#&gt;&lt;.net&gt;&lt;winforms&gt;&lt;multithreading&gt;&lt;events&gt;</td>\n      <td>how make event callbacks win forms thread safe...</td>\n      <td>how make event callback win form thread safe w...</td>\n      <td>how do i make event callbacks into my win form...</td>\n      <td>c</td>\n    </tr>\n    <tr>\n      <th>4</th>\n      <td>Pandas OHLC aggregation on OHLC data</td>\n      <td>&lt;p&gt;I understand that OHLC re-sampling of time ...</td>\n      <td>&lt;python&gt;&lt;python-2.7&gt;&lt;pandas&gt;&lt;dataframe&gt;&lt;resamp...</td>\n      <td>pandas ohlc aggregation ohlc data understand o...</td>\n      <td>panda ohlc aggregation ohlc data understand oh...</td>\n      <td>pandas ohlc aggregation on ohlc data p i under...</td>\n      <td>python</td>\n    </tr>\n    <tr>\n      <th>...</th>\n      <td>...</td>\n      <td>...</td>\n      <td>...</td>\n      <td>...</td>\n      <td>...</td>\n      <td>...</td>\n      <td>...</td>\n    </tr>\n    <tr>\n      <th>4995</th>\n      <td>Entity Framework Code First Fluent Api: Adding...</td>\n      <td>&lt;p&gt;I'm running EF 4.2 CF and want to create in...</td>\n      <td>&lt;c#&gt;&lt;entity-framework-4&gt;&lt;ef-code-first&gt;&lt;data-a...</td>\n      <td>entity framework code first fluent api adding ...</td>\n      <td>entity framework code first fluent api adding ...</td>\n      <td>entity framework code first fluent api : addin...</td>\n      <td>c</td>\n    </tr>\n    <tr>\n      <th>4996</th>\n      <td>IIS Returning Old User Names to my application</td>\n      <td>&lt;p&gt;Here's my scenario.  I created an applicati...</td>\n      <td>&lt;asp.net&gt;&lt;security&gt;&lt;iis&gt;&lt;authentication&gt;&lt;kerbe...</td>\n      <td>iis returning old user names application here ...</td>\n      <td>ii returning old user name application here sc...</td>\n      <td>iis returning old user names to my application...</td>\n      <td>other</td>\n    </tr>\n    <tr>\n      <th>4997</th>\n      <td>AtomicReferenceFieldUpdater - methods set, get...</td>\n      <td>&lt;p&gt;&lt;a href=\"http://docs.oracle.com/javase/6/do...</td>\n      <td>&lt;java&gt;&lt;concurrency&gt;&lt;volatile&gt;&lt;atomicreference&gt;...</td>\n      <td>atomicreferencefieldupdater methods set get co...</td>\n      <td>atomicreferencefieldupdater method set get com...</td>\n      <td>atomicreferencefieldupdater methods set , get ...</td>\n      <td>java</td>\n    </tr>\n    <tr>\n      <th>4998</th>\n      <td>how to return json encoded form errors in symfony</td>\n      <td>&lt;p&gt;I want to create a webservice to which I su...</td>\n      <td>&lt;php&gt;&lt;ajax&gt;&lt;json&gt;&lt;forms&gt;&lt;symfony&gt;</td>\n      <td>return json encoded form errors symfony want c...</td>\n      <td>return json encoded form error symfony want cr...</td>\n      <td>how to return json encoded form errors in symf...</td>\n      <td>php</td>\n    </tr>\n    <tr>\n      <th>4999</th>\n      <td>How do I convert a file's format from Unicode ...</td>\n      <td>&lt;p&gt;I use a 3rd party tool that outputs a file ...</td>\n      <td>&lt;python&gt;&lt;unicode&gt;&lt;encoding&gt;&lt;file&gt;&lt;ascii&gt;</td>\n      <td>how convert file format unicode ascii using py...</td>\n      <td>how convert file format unicode ascii using py...</td>\n      <td>how do i convert a file 's format from unicode...</td>\n      <td>python</td>\n    </tr>\n  </tbody>\n</table>\n<p>5000 rows × 7 columns</p>\n</div>"
     },
     "execution_count": 100,
     "metadata": {},
     "output_type": "execute_result"
    }
   ],
   "source": [
    "import gensim\n",
    "from gensim.utils import simple_preprocess\n",
    "import nltk\n",
    "nltk.download('stopwords')\n",
    "from nltk.corpus import stopwords\n",
    "stop_words = stopwords.words('english')\n",
    "\n",
    "def sent_to_words(sentences):\n",
    "    for sentence in sentences:\n",
    "        # deacc=True removes punctuations\n",
    "        yield(gensim.utils.simple_preprocess(str(sentence), deacc=True))\n",
    "\n",
    "def remove_stopwords(texts):\n",
    "    return [[word for word in simple_preprocess(str(doc))\n",
    "             if word not in stop_words] for doc in texts]\n",
    "\n",
    "data2 = data_T.sentence_bow.values.tolist()\n",
    "data_words = list(sent_to_words(data2))\n",
    "# remove stop words\n",
    "data_words = remove_stopwords(data_words)\n",
    "print(data_words[:1][0][:30])"
   ],
   "metadata": {
    "collapsed": false,
    "pycharm": {
     "name": "#%%\n"
    }
   }
  },
  {
   "cell_type": "code",
   "execution_count": 101,
   "outputs": [
    {
     "data": {
      "text/plain": "60"
     },
     "execution_count": 101,
     "metadata": {},
     "output_type": "execute_result"
    }
   ],
   "source": [
    "datawords=[]\n",
    "for k in data_words:\n",
    "    datawords+=k"
   ],
   "metadata": {
    "collapsed": false,
    "pycharm": {
     "name": "#%%\n"
    }
   }
  },
  {
   "cell_type": "code",
   "execution_count": 102,
   "outputs": [],
   "source": [
    "# Import the wordcloud library\n",
    "from wordcloud import WordCloud\n",
    "# Join the different processed titles together.\n",
    "long_string = Counter(datawords)\n",
    "# Create a WordCloud object\n",
    "wordcloud = WordCloud(background_color=\"white\", max_words=5000, contour_width=3, contour_color='steelblue')\n",
    "# Generate a word cloud\n",
    "wordcloud.generate_from_frequencies(long_string)\n",
    "# Visualize the word cloud\n",
    "wordcloud.to_image()"
   ],
   "metadata": {
    "collapsed": false,
    "pycharm": {
     "name": "#%%\n"
    }
   }
  },
  {
   "cell_type": "code",
   "execution_count": 103,
   "outputs": [],
   "source": [
    "import gensim.corpora as corpora\n",
    "# Create Dictionary\n",
    "id2word = corpora.Dictionary(data_words)\n",
    "# Create Corpus\n",
    "texts = data_words\n",
    "# Term Document Frequency\n",
    "corpus = [id2word.doc2bow(text) for text in texts]\n",
    "# View\n",
    "print(corpus[:1][0][:30])"
   ],
   "metadata": {
    "collapsed": false,
    "pycharm": {
     "name": "#%%\n"
    }
   }
  },
  {
   "cell_type": "code",
   "source": [
    "from gensim.models import CoherenceModel\n",
    "\n",
    "def compute_coherence_values(dictionary, corpus, texts, limit, start=2, step=3):\n",
    "    \"\"\"\n",
    "    Compute c_v coherence for various number of topics\n",
    "\n",
    "    Parameters:\n",
    "    ----------\n",
    "    dictionary : Gensim dictionary\n",
    "    corpus : Gensim corpus\n",
    "    texts : List of input texts\n",
    "    limit : Max num of topics\n",
    "\n",
    "    Returns:\n",
    "    -------\n",
    "    model_list : List of LDA topic models\n",
    "    coherence_values : Coherence values corresponding to the LDA model with respective number of topics\n",
    "    \"\"\"\n",
    "    coherence_values = []\n",
    "    model_list = []\n",
    "    for num_topics in range(start, limit, step):\n",
    "        model = gensim.models.LdaMulticore(corpus=corpus,\n",
    "                                       id2word=id2word,\n",
    "                                       num_topics=num_topics)\n",
    "        model_list.append(model)\n",
    "        coherencemodel = CoherenceModel(model=model, texts=texts, dictionary=dictionary, coherence='c_v')\n",
    "        coherence_values.append(coherencemodel.get_coherence())\n",
    "\n",
    "    return model_list, coherence_values\n",
    "\n",
    "model_list, coherence_values = compute_coherence_values(dictionary=id2word, corpus=corpus, texts=texts, start=20, limit=60, step=5)"
   ],
   "metadata": {
    "collapsed": false,
    "pycharm": {
     "name": "#%%\n"
    }
   },
   "execution_count": null,
   "outputs": []
  },
  {
   "cell_type": "code",
   "execution_count": 104,
   "outputs": [
    {
     "name": "stdout",
     "output_type": "stream",
     "text": [
      "catégories :  ['c++', 'multithreading', 'memory', 'css', 'python', 'c', '.net', 'linux', 'bash', 'testing', 'visual-studio', 'oop', 'android', 'java', 'xml', 'process', 'algorithm', 'html', 'sql', 'image', 'wpf', 'arrays', 'string', 'ruby', 'object', 'php', 'date', 'ios', 'xcode', 'list', 'service', 'iphone', 'struct', 'ase', 'json', 'http', 'django', 'com', 'map', 'api', 'cocoa', 'jquery', 'spring', 'text', 'file', 'sign', 'swift', 'view', 'orm', 'uri', 'git', 'int', 'ram', 'ear', 'ria', 'mat', 'window', 'web', 'out', 'pac', 'other']\n"
     ]
    }
   ],
   "source": [
    "limit=60; start=20; step=5;\n",
    "x = range(start, limit, step)\n",
    "plt.plot(x, coherence_values)\n",
    "plt.xlabel(\"Num Topics\")\n",
    "plt.ylabel(\"Coherence score\")\n",
    "plt.legend((\"coherence_values\"), loc='best')\n",
    "plt.show()\n"
   ],
   "metadata": {
    "collapsed": false,
    "pycharm": {
     "name": "#%%\n"
    }
   }
  },
  {
   "cell_type": "code",
   "execution_count": 105,
   "outputs": [
    {
     "name": "stdout",
     "output_type": "stream",
     "text": [
      "max length bow lem :  1808\n",
      "max length dl :  4674\n"
     ]
    }
   ],
   "source": [
    "from pprint import pprint\n",
    "# number of topics\n",
    "num_topics = start+np.argmax(coherence_values)\n",
    "print('Number of topics : ' + str(num_topics))\n",
    "# LDA model\n",
    "lda_model = model_list[np.argmax(coherence_values)]\n",
    "# Print the Keyword in the topics\n",
    "pprint(lda_model.print_topics())\n",
    "\n",
    "doc_lda = lda_model[corpus]\n",
    "\n"
   ],
   "metadata": {
    "collapsed": false,
    "pycharm": {
     "name": "#%%\n"
    }
   }
  },
  {
   "cell_type": "code",
   "execution_count": 106,
   "outputs": [
    {
     "data": {
      "text/plain": "                                                  Title  \\\n0           Heap corruption under Win32; how to locate?   \n1     Rails: How to set a background image in rails ...   \n2     Create a directly-executable cross-platform GU...   \n3     How do I make event callbacks into my win form...   \n4                  Pandas OHLC aggregation on OHLC data   \n...                                                 ...   \n4995  Entity Framework Code First Fluent Api: Adding...   \n4996     IIS Returning Old User Names to my application   \n4997  AtomicReferenceFieldUpdater - methods set, get...   \n4998  how to return json encoded form errors in symfony   \n4999  How do I convert a file's format from Unicode ...   \n\n                                                   Body  \\\n0     <p>I'm working on a <strong>multithreaded</str...   \n1     <p>I am using rails 3.2 and i have to set a ba...   \n2     <p>Python works on multiple platforms and can ...   \n3     <p>When you subscribe to an event on an object...   \n4     <p>I understand that OHLC re-sampling of time ...   \n...                                                 ...   \n4995  <p>I'm running EF 4.2 CF and want to create in...   \n4996  <p>Here's my scenario.  I created an applicati...   \n4997  <p><a href=\"http://docs.oracle.com/javase/6/do...   \n4998  <p>I want to create a webservice to which I su...   \n4999  <p>I use a 3rd party tool that outputs a file ...   \n\n                                                   Tags  \\\n0     <c++><windows><multithreading><debugging><memory>   \n1     <css><ruby-on-rails><ruby-on-rails-3><ruby-on-...   \n2     <python><user-interface><deployment><tkinter><...   \n3          <c#><.net><winforms><multithreading><events>   \n4     <python><python-2.7><pandas><dataframe><resamp...   \n...                                                 ...   \n4995  <c#><entity-framework-4><ef-code-first><data-a...   \n4996  <asp.net><security><iis><authentication><kerbe...   \n4997  <java><concurrency><volatile><atomicreference>...   \n4998                  <php><ajax><json><forms><symfony>   \n4999           <python><unicode><encoding><file><ascii>   \n\n                                           sentence_bow  \\\n0     heap corruption win32 locate working strong mu...   \n1     rails how set background image rails css using...   \n2     create directly executable cross platform gui ...   \n3     how make event callbacks win forms thread safe...   \n4     pandas ohlc aggregation ohlc data understand o...   \n...                                                 ...   \n4995  entity framework code first fluent api adding ...   \n4996  iis returning old user names application here ...   \n4997  atomicreferencefieldupdater methods set get co...   \n4998  return json encoded form errors symfony want c...   \n4999  how convert file format unicode ascii using py...   \n\n                                       sentence_bow_lem  \\\n0     heap corruption win32 locate working strong mu...   \n1     rail how set background image rail cs using ra...   \n2     create directly executable cross platform gui ...   \n3     how make event callback win form thread safe w...   \n4     panda ohlc aggregation ohlc data understand oh...   \n...                                                 ...   \n4995  entity framework code first fluent api adding ...   \n4996  ii returning old user name application here sc...   \n4997  atomicreferencefieldupdater method set get com...   \n4998  return json encoded form error symfony want cr...   \n4999  how convert file format unicode ascii using py...   \n\n                                            sentence_dl    tags  \\\n0     heap corruption under win32 ; how to locate ? ...     c++   \n1     rails : how to set a background image in rails...     css   \n2     create a directly executable cross platform gu...  python   \n3     how do i make event callbacks into my win form...       c   \n4     pandas ohlc aggregation on ohlc data p i under...  python   \n...                                                 ...     ...   \n4995  entity framework code first fluent api : addin...       c   \n4996  iis returning old user names to my application...   other   \n4997  atomicreferencefieldupdater methods set , get ...    java   \n4998  how to return json encoded form errors in symf...     php   \n4999  how do i convert a file 's format from unicode...  python   \n\n      length_bow_lem  length_dl  \n0                458        960  \n1                 46        105  \n2                 38         85  \n3                 52        115  \n4                224        400  \n...              ...        ...  \n4995             183        397  \n4996             252        534  \n4997             167        344  \n4998             152        454  \n4999              34         69  \n\n[5000 rows x 9 columns]",
      "text/html": "<div>\n<style scoped>\n    .dataframe tbody tr th:only-of-type {\n        vertical-align: middle;\n    }\n\n    .dataframe tbody tr th {\n        vertical-align: top;\n    }\n\n    .dataframe thead th {\n        text-align: right;\n    }\n</style>\n<table border=\"1\" class=\"dataframe\">\n  <thead>\n    <tr style=\"text-align: right;\">\n      <th></th>\n      <th>Title</th>\n      <th>Body</th>\n      <th>Tags</th>\n      <th>sentence_bow</th>\n      <th>sentence_bow_lem</th>\n      <th>sentence_dl</th>\n      <th>tags</th>\n      <th>length_bow_lem</th>\n      <th>length_dl</th>\n    </tr>\n  </thead>\n  <tbody>\n    <tr>\n      <th>0</th>\n      <td>Heap corruption under Win32; how to locate?</td>\n      <td>&lt;p&gt;I'm working on a &lt;strong&gt;multithreaded&lt;/str...</td>\n      <td>&lt;c++&gt;&lt;windows&gt;&lt;multithreading&gt;&lt;debugging&gt;&lt;memory&gt;</td>\n      <td>heap corruption win32 locate working strong mu...</td>\n      <td>heap corruption win32 locate working strong mu...</td>\n      <td>heap corruption under win32 ; how to locate ? ...</td>\n      <td>c++</td>\n      <td>458</td>\n      <td>960</td>\n    </tr>\n    <tr>\n      <th>1</th>\n      <td>Rails: How to set a background image in rails ...</td>\n      <td>&lt;p&gt;I am using rails 3.2 and i have to set a ba...</td>\n      <td>&lt;css&gt;&lt;ruby-on-rails&gt;&lt;ruby-on-rails-3&gt;&lt;ruby-on-...</td>\n      <td>rails how set background image rails css using...</td>\n      <td>rail how set background image rail cs using ra...</td>\n      <td>rails : how to set a background image in rails...</td>\n      <td>css</td>\n      <td>46</td>\n      <td>105</td>\n    </tr>\n    <tr>\n      <th>2</th>\n      <td>Create a directly-executable cross-platform GU...</td>\n      <td>&lt;p&gt;Python works on multiple platforms and can ...</td>\n      <td>&lt;python&gt;&lt;user-interface&gt;&lt;deployment&gt;&lt;tkinter&gt;&lt;...</td>\n      <td>create directly executable cross platform gui ...</td>\n      <td>create directly executable cross platform gui ...</td>\n      <td>create a directly executable cross platform gu...</td>\n      <td>python</td>\n      <td>38</td>\n      <td>85</td>\n    </tr>\n    <tr>\n      <th>3</th>\n      <td>How do I make event callbacks into my win form...</td>\n      <td>&lt;p&gt;When you subscribe to an event on an object...</td>\n      <td>&lt;c#&gt;&lt;.net&gt;&lt;winforms&gt;&lt;multithreading&gt;&lt;events&gt;</td>\n      <td>how make event callbacks win forms thread safe...</td>\n      <td>how make event callback win form thread safe w...</td>\n      <td>how do i make event callbacks into my win form...</td>\n      <td>c</td>\n      <td>52</td>\n      <td>115</td>\n    </tr>\n    <tr>\n      <th>4</th>\n      <td>Pandas OHLC aggregation on OHLC data</td>\n      <td>&lt;p&gt;I understand that OHLC re-sampling of time ...</td>\n      <td>&lt;python&gt;&lt;python-2.7&gt;&lt;pandas&gt;&lt;dataframe&gt;&lt;resamp...</td>\n      <td>pandas ohlc aggregation ohlc data understand o...</td>\n      <td>panda ohlc aggregation ohlc data understand oh...</td>\n      <td>pandas ohlc aggregation on ohlc data p i under...</td>\n      <td>python</td>\n      <td>224</td>\n      <td>400</td>\n    </tr>\n    <tr>\n      <th>...</th>\n      <td>...</td>\n      <td>...</td>\n      <td>...</td>\n      <td>...</td>\n      <td>...</td>\n      <td>...</td>\n      <td>...</td>\n      <td>...</td>\n      <td>...</td>\n    </tr>\n    <tr>\n      <th>4995</th>\n      <td>Entity Framework Code First Fluent Api: Adding...</td>\n      <td>&lt;p&gt;I'm running EF 4.2 CF and want to create in...</td>\n      <td>&lt;c#&gt;&lt;entity-framework-4&gt;&lt;ef-code-first&gt;&lt;data-a...</td>\n      <td>entity framework code first fluent api adding ...</td>\n      <td>entity framework code first fluent api adding ...</td>\n      <td>entity framework code first fluent api : addin...</td>\n      <td>c</td>\n      <td>183</td>\n      <td>397</td>\n    </tr>\n    <tr>\n      <th>4996</th>\n      <td>IIS Returning Old User Names to my application</td>\n      <td>&lt;p&gt;Here's my scenario.  I created an applicati...</td>\n      <td>&lt;asp.net&gt;&lt;security&gt;&lt;iis&gt;&lt;authentication&gt;&lt;kerbe...</td>\n      <td>iis returning old user names application here ...</td>\n      <td>ii returning old user name application here sc...</td>\n      <td>iis returning old user names to my application...</td>\n      <td>other</td>\n      <td>252</td>\n      <td>534</td>\n    </tr>\n    <tr>\n      <th>4997</th>\n      <td>AtomicReferenceFieldUpdater - methods set, get...</td>\n      <td>&lt;p&gt;&lt;a href=\"http://docs.oracle.com/javase/6/do...</td>\n      <td>&lt;java&gt;&lt;concurrency&gt;&lt;volatile&gt;&lt;atomicreference&gt;...</td>\n      <td>atomicreferencefieldupdater methods set get co...</td>\n      <td>atomicreferencefieldupdater method set get com...</td>\n      <td>atomicreferencefieldupdater methods set , get ...</td>\n      <td>java</td>\n      <td>167</td>\n      <td>344</td>\n    </tr>\n    <tr>\n      <th>4998</th>\n      <td>how to return json encoded form errors in symfony</td>\n      <td>&lt;p&gt;I want to create a webservice to which I su...</td>\n      <td>&lt;php&gt;&lt;ajax&gt;&lt;json&gt;&lt;forms&gt;&lt;symfony&gt;</td>\n      <td>return json encoded form errors symfony want c...</td>\n      <td>return json encoded form error symfony want cr...</td>\n      <td>how to return json encoded form errors in symf...</td>\n      <td>php</td>\n      <td>152</td>\n      <td>454</td>\n    </tr>\n    <tr>\n      <th>4999</th>\n      <td>How do I convert a file's format from Unicode ...</td>\n      <td>&lt;p&gt;I use a 3rd party tool that outputs a file ...</td>\n      <td>&lt;python&gt;&lt;unicode&gt;&lt;encoding&gt;&lt;file&gt;&lt;ascii&gt;</td>\n      <td>how convert file format unicode ascii using py...</td>\n      <td>how convert file format unicode ascii using py...</td>\n      <td>how do i convert a file 's format from unicode...</td>\n      <td>python</td>\n      <td>34</td>\n      <td>69</td>\n    </tr>\n  </tbody>\n</table>\n<p>5000 rows × 9 columns</p>\n</div>"
     },
     "execution_count": 106,
     "metadata": {},
     "output_type": "execute_result"
    }
   ],
   "source": [
    "def format_topics_sentences(ldamodel=lda_model, corpus=corpus, texts=data):\n",
    "    # Init output\n",
    "    sent_topics_df = pd.DataFrame()\n",
    "\n",
    "    # Get main topic in each document\n",
    "    for i, row in enumerate(ldamodel[corpus]):\n",
    "        row = sorted(row, key=lambda x: (x[1]), reverse=True)\n",
    "        # Get the Dominant topic, Perc Contribution and Keywords for each document\n",
    "        for j, (topic_num, prop_topic) in enumerate(row):\n",
    "            if j == 0:  # => dominant topic\n",
    "                wp = ldamodel.show_topic(topic_num)\n",
    "                topic_keywords = \" \".join([word for word, prop in wp])\n",
    "                sent_topics_df = sent_topics_df.append(pd.Series([int(topic_num), round(prop_topic,4), topic_keywords]), ignore_index=True)\n",
    "            else:\n",
    "                break\n",
    "    sent_topics_df.columns = ['Dominant_Topic', 'Perc_Contribution', 'Topic_Keywords']\n",
    "\n",
    "    # Add original text to the end of the output\n",
    "    contents = pd.Series(texts)\n",
    "    sent_topics_df = pd.concat([sent_topics_df, contents], axis=1)\n",
    "    return(sent_topics_df)\n",
    "\n",
    "\n",
    "df_topic_sents_keywords = format_topics_sentences(ldamodel=lda_model, corpus=corpus, texts=texts)\n",
    "\n",
    "# Format\n",
    "df_dominant_topic = df_topic_sents_keywords.reset_index()\n",
    "df_dominant_topic.columns = ['Document_No', 'Dominant_Topic', 'Topic_Perc_Contrib', 'Keywords', 'Text']\n",
    "\n",
    "# Show\n",
    "df_dominant_topic.head(10)"
   ],
   "metadata": {
    "collapsed": false,
    "pycharm": {
     "name": "#%%\n"
    }
   }
  },
  {
   "cell_type": "code",
   "execution_count": 107,
   "outputs": [
    {
     "data": {
      "text/plain": "array(['c++', 'css', 'python', ..., 'java', 'php', 'python'], dtype=object)"
     },
     "execution_count": 107,
     "metadata": {},
     "output_type": "execute_result"
    }
   ],
   "source": [
    "data_T['keywords_bow']=df_dominant_topic['Keywords']"
   ],
   "metadata": {
    "collapsed": false,
    "pycharm": {
     "name": "#%%\n"
    }
   }
  },
  {
   "cell_type": "code",
   "source": [
    "df_topic_sents_keywords = format_topics_sentences(ldamodel=lda_model, corpus=corpus, texts=data_T['sentence_bow_lem'])\n",
    "df_dominant_topic = df_topic_sents_keywords.reset_index()\n",
    "df_dominant_topic.columns = ['Document_No', 'Dominant_Topic', 'Topic_Perc_Contrib', 'Keywords', 'Text']"
   ],
   "metadata": {
    "collapsed": false,
    "pycharm": {
     "name": "#%%\n"
    }
   },
   "execution_count": null,
   "outputs": []
  },
  {
   "cell_type": "code",
   "source": [
    "data_T['keywords_bow_lem']=df_dominant_topic['Keywords']"
   ],
   "metadata": {
    "collapsed": false,
    "pycharm": {
     "name": "#%%\n"
    }
   },
   "execution_count": null,
   "outputs": []
  },
  {
   "cell_type": "code",
   "source": [
    "df_topic_sents_keywords = format_topics_sentences(ldamodel=lda_model, corpus=corpus, texts=data_T['sentence_dl'])\n",
    "df_dominant_topic = df_topic_sents_keywords.reset_index()\n",
    "df_dominant_topic.columns = ['Document_No', 'Dominant_Topic', 'Topic_Perc_Contrib', 'Keywords', 'Text']\n",
    "data_T['keywords_dl']=df_dominant_topic['Keywords']"
   ],
   "metadata": {
    "collapsed": false,
    "pycharm": {
     "name": "#%%\n"
    }
   },
   "execution_count": 108,
   "outputs": []
  },
  {
   "cell_type": "code",
   "execution_count": 109,
   "outputs": [
    {
     "name": "stderr",
     "output_type": "stream",
     "text": [
      "C:\\Users\\antoi\\PycharmProjects\\Projet 5\\venv\\lib\\site-packages\\sklearn\\utils\\deprecation.py:87: FutureWarning: Function get_feature_names is deprecated; get_feature_names is deprecated in 1.0 and will be removed in 1.2. Please use get_feature_names_out instead.\n",
      "  warnings.warn(msg, category=FutureWarning)\n"
     ]
    },
    {
     "data": {
      "text/plain": "      00  000  0000  00000  00000000  0000000000000001  0000000000000042  \\\n0      0    0     0      0         0                 0                 0   \n1      0    0     0      0         0                 0                 0   \n2      0    0     0      0         0                 0                 0   \n3      0    0     0      0         0                 0                 0   \n4     13    0     0      0         0                 0                 0   \n...   ..  ...   ...    ...       ...               ...               ...   \n4995   0    0     0      0         0                 0                 0   \n4996   0    0     0      0         0                 0                 0   \n4997   0    0     0      0         0                 0                 0   \n4998   0    0     0      0         0                 0                 0   \n4999   0    0     0      0         0                 0                 0   \n\n      0000000000000047  0000000000000050  0000000000000055  ...  привет  \\\n0                    0                 0                 0  ...       0   \n1                    0                 0                 0  ...       0   \n2                    0                 0                 0  ...       0   \n3                    0                 0                 0  ...       0   \n4                    0                 0                 0  ...       0   \n...                ...               ...               ...  ...     ...   \n4995                 0                 0                 0  ...       0   \n4996                 0                 0                 0  ...       0   \n4997                 0                 0                 0  ...       0   \n4998                 0                 0                 0  ...       0   \n4999                 0                 0                 0  ...       0   \n\n      разведчик  стратегический  ברי  צקלה  السلام  عليكم  दय  ﬂexible  \\\n0             0               0    0     0       0      0   0        0   \n1             0               0    0     0       0      0   0        0   \n2             0               0    0     0       0      0   0        0   \n3             0               0    0     0       0      0   0        0   \n4             0               0    0     0       0      0   0        0   \n...         ...             ...  ...   ...     ...    ...  ..      ...   \n4995          0               0    0     0       0      0   0        0   \n4996          0               0    0     0       0      0   0        0   \n4997          0               0    0     0       0      0   0        0   \n4998          0               0    0     0       0      0   0        0   \n4999          0               0    0     0       0      0   0        0   \n\n      𝟘𝟙𝟚𝟛𝟜𝟝𝟞𝟟𝟠𝟡  \n0              0  \n1              0  \n2              0  \n3              0  \n4              0  \n...          ...  \n4995           0  \n4996           0  \n4997           0  \n4998           0  \n4999           0  \n\n[5000 rows x 40056 columns]",
      "text/html": "<div>\n<style scoped>\n    .dataframe tbody tr th:only-of-type {\n        vertical-align: middle;\n    }\n\n    .dataframe tbody tr th {\n        vertical-align: top;\n    }\n\n    .dataframe thead th {\n        text-align: right;\n    }\n</style>\n<table border=\"1\" class=\"dataframe\">\n  <thead>\n    <tr style=\"text-align: right;\">\n      <th></th>\n      <th>00</th>\n      <th>000</th>\n      <th>0000</th>\n      <th>00000</th>\n      <th>00000000</th>\n      <th>0000000000000001</th>\n      <th>0000000000000042</th>\n      <th>0000000000000047</th>\n      <th>0000000000000050</th>\n      <th>0000000000000055</th>\n      <th>...</th>\n      <th>привет</th>\n      <th>разведчик</th>\n      <th>стратегический</th>\n      <th>ברי</th>\n      <th>צקלה</th>\n      <th>السلام</th>\n      <th>عليكم</th>\n      <th>दय</th>\n      <th>ﬂexible</th>\n      <th>𝟘𝟙𝟚𝟛𝟜𝟝𝟞𝟟𝟠𝟡</th>\n    </tr>\n  </thead>\n  <tbody>\n    <tr>\n      <th>0</th>\n      <td>0</td>\n      <td>0</td>\n      <td>0</td>\n      <td>0</td>\n      <td>0</td>\n      <td>0</td>\n      <td>0</td>\n      <td>0</td>\n      <td>0</td>\n      <td>0</td>\n      <td>...</td>\n      <td>0</td>\n      <td>0</td>\n      <td>0</td>\n      <td>0</td>\n      <td>0</td>\n      <td>0</td>\n      <td>0</td>\n      <td>0</td>\n      <td>0</td>\n      <td>0</td>\n    </tr>\n    <tr>\n      <th>1</th>\n      <td>0</td>\n      <td>0</td>\n      <td>0</td>\n      <td>0</td>\n      <td>0</td>\n      <td>0</td>\n      <td>0</td>\n      <td>0</td>\n      <td>0</td>\n      <td>0</td>\n      <td>...</td>\n      <td>0</td>\n      <td>0</td>\n      <td>0</td>\n      <td>0</td>\n      <td>0</td>\n      <td>0</td>\n      <td>0</td>\n      <td>0</td>\n      <td>0</td>\n      <td>0</td>\n    </tr>\n    <tr>\n      <th>2</th>\n      <td>0</td>\n      <td>0</td>\n      <td>0</td>\n      <td>0</td>\n      <td>0</td>\n      <td>0</td>\n      <td>0</td>\n      <td>0</td>\n      <td>0</td>\n      <td>0</td>\n      <td>...</td>\n      <td>0</td>\n      <td>0</td>\n      <td>0</td>\n      <td>0</td>\n      <td>0</td>\n      <td>0</td>\n      <td>0</td>\n      <td>0</td>\n      <td>0</td>\n      <td>0</td>\n    </tr>\n    <tr>\n      <th>3</th>\n      <td>0</td>\n      <td>0</td>\n      <td>0</td>\n      <td>0</td>\n      <td>0</td>\n      <td>0</td>\n      <td>0</td>\n      <td>0</td>\n      <td>0</td>\n      <td>0</td>\n      <td>...</td>\n      <td>0</td>\n      <td>0</td>\n      <td>0</td>\n      <td>0</td>\n      <td>0</td>\n      <td>0</td>\n      <td>0</td>\n      <td>0</td>\n      <td>0</td>\n      <td>0</td>\n    </tr>\n    <tr>\n      <th>4</th>\n      <td>13</td>\n      <td>0</td>\n      <td>0</td>\n      <td>0</td>\n      <td>0</td>\n      <td>0</td>\n      <td>0</td>\n      <td>0</td>\n      <td>0</td>\n      <td>0</td>\n      <td>...</td>\n      <td>0</td>\n      <td>0</td>\n      <td>0</td>\n      <td>0</td>\n      <td>0</td>\n      <td>0</td>\n      <td>0</td>\n      <td>0</td>\n      <td>0</td>\n      <td>0</td>\n    </tr>\n    <tr>\n      <th>...</th>\n      <td>...</td>\n      <td>...</td>\n      <td>...</td>\n      <td>...</td>\n      <td>...</td>\n      <td>...</td>\n      <td>...</td>\n      <td>...</td>\n      <td>...</td>\n      <td>...</td>\n      <td>...</td>\n      <td>...</td>\n      <td>...</td>\n      <td>...</td>\n      <td>...</td>\n      <td>...</td>\n      <td>...</td>\n      <td>...</td>\n      <td>...</td>\n      <td>...</td>\n      <td>...</td>\n    </tr>\n    <tr>\n      <th>4995</th>\n      <td>0</td>\n      <td>0</td>\n      <td>0</td>\n      <td>0</td>\n      <td>0</td>\n      <td>0</td>\n      <td>0</td>\n      <td>0</td>\n      <td>0</td>\n      <td>0</td>\n      <td>...</td>\n      <td>0</td>\n      <td>0</td>\n      <td>0</td>\n      <td>0</td>\n      <td>0</td>\n      <td>0</td>\n      <td>0</td>\n      <td>0</td>\n      <td>0</td>\n      <td>0</td>\n    </tr>\n    <tr>\n      <th>4996</th>\n      <td>0</td>\n      <td>0</td>\n      <td>0</td>\n      <td>0</td>\n      <td>0</td>\n      <td>0</td>\n      <td>0</td>\n      <td>0</td>\n      <td>0</td>\n      <td>0</td>\n      <td>...</td>\n      <td>0</td>\n      <td>0</td>\n      <td>0</td>\n      <td>0</td>\n      <td>0</td>\n      <td>0</td>\n      <td>0</td>\n      <td>0</td>\n      <td>0</td>\n      <td>0</td>\n    </tr>\n    <tr>\n      <th>4997</th>\n      <td>0</td>\n      <td>0</td>\n      <td>0</td>\n      <td>0</td>\n      <td>0</td>\n      <td>0</td>\n      <td>0</td>\n      <td>0</td>\n      <td>0</td>\n      <td>0</td>\n      <td>...</td>\n      <td>0</td>\n      <td>0</td>\n      <td>0</td>\n      <td>0</td>\n      <td>0</td>\n      <td>0</td>\n      <td>0</td>\n      <td>0</td>\n      <td>0</td>\n      <td>0</td>\n    </tr>\n    <tr>\n      <th>4998</th>\n      <td>0</td>\n      <td>0</td>\n      <td>0</td>\n      <td>0</td>\n      <td>0</td>\n      <td>0</td>\n      <td>0</td>\n      <td>0</td>\n      <td>0</td>\n      <td>0</td>\n      <td>...</td>\n      <td>0</td>\n      <td>0</td>\n      <td>0</td>\n      <td>0</td>\n      <td>0</td>\n      <td>0</td>\n      <td>0</td>\n      <td>0</td>\n      <td>0</td>\n      <td>0</td>\n    </tr>\n    <tr>\n      <th>4999</th>\n      <td>0</td>\n      <td>0</td>\n      <td>0</td>\n      <td>0</td>\n      <td>0</td>\n      <td>0</td>\n      <td>0</td>\n      <td>0</td>\n      <td>0</td>\n      <td>0</td>\n      <td>...</td>\n      <td>0</td>\n      <td>0</td>\n      <td>0</td>\n      <td>0</td>\n      <td>0</td>\n      <td>0</td>\n      <td>0</td>\n      <td>0</td>\n      <td>0</td>\n      <td>0</td>\n    </tr>\n  </tbody>\n</table>\n<p>5000 rows × 40056 columns</p>\n</div>"
     },
     "execution_count": 109,
     "metadata": {},
     "output_type": "execute_result"
    }
   ],
   "source": [
    "# Join the different processed titles together.\n",
    "long_string = ''.join(list(data_T['keywords_bow_lem'].values))\n",
    "long_string=Counter(long_string.split(sep=' '))\n",
    "# Create a WordCloud object\n",
    "wordcloud = WordCloud(background_color=\"white\", max_words=5000, contour_width=3, contour_color='steelblue')\n",
    "# Generate a word cloud\n",
    "wordcloud.generate_from_frequencies(long_string)\n",
    "# Visualize the word cloud\n",
    "wordcloud.to_image()"
   ],
   "metadata": {
    "collapsed": false,
    "pycharm": {
     "name": "#%%\n"
    }
   }
  },
  {
   "cell_type": "code",
   "source": [
    "data_T"
   ],
   "metadata": {
    "collapsed": false,
    "pycharm": {
     "name": "#%%\n"
    }
   },
   "execution_count": 110,
   "outputs": [
    {
     "name": "stderr",
     "output_type": "stream",
     "text": [
      "C:\\Users\\antoi\\PycharmProjects\\Projet 5\\venv\\lib\\site-packages\\sklearn\\utils\\deprecation.py:87: FutureWarning: Function get_feature_names is deprecated; get_feature_names is deprecated in 1.0 and will be removed in 1.2. Please use get_feature_names_out instead.\n",
      "  warnings.warn(msg, category=FutureWarning)\n"
     ]
    },
    {
     "data": {
      "text/plain": "            00  000  0000  00000  00000000  0000000000000001  \\\n0     0.000000  0.0   0.0    0.0       0.0               0.0   \n1     0.000000  0.0   0.0    0.0       0.0               0.0   \n2     0.000000  0.0   0.0    0.0       0.0               0.0   \n3     0.000000  0.0   0.0    0.0       0.0               0.0   \n4     0.275394  0.0   0.0    0.0       0.0               0.0   \n...        ...  ...   ...    ...       ...               ...   \n4995  0.000000  0.0   0.0    0.0       0.0               0.0   \n4996  0.000000  0.0   0.0    0.0       0.0               0.0   \n4997  0.000000  0.0   0.0    0.0       0.0               0.0   \n4998  0.000000  0.0   0.0    0.0       0.0               0.0   \n4999  0.000000  0.0   0.0    0.0       0.0               0.0   \n\n      0000000000000042  0000000000000047  0000000000000050  0000000000000055  \\\n0                  0.0               0.0               0.0               0.0   \n1                  0.0               0.0               0.0               0.0   \n2                  0.0               0.0               0.0               0.0   \n3                  0.0               0.0               0.0               0.0   \n4                  0.0               0.0               0.0               0.0   \n...                ...               ...               ...               ...   \n4995               0.0               0.0               0.0               0.0   \n4996               0.0               0.0               0.0               0.0   \n4997               0.0               0.0               0.0               0.0   \n4998               0.0               0.0               0.0               0.0   \n4999               0.0               0.0               0.0               0.0   \n\n      ...  привет  разведчик  стратегический  ברי  צקלה  السلام  عليكم   दय  \\\n0     ...     0.0        0.0             0.0  0.0   0.0     0.0    0.0  0.0   \n1     ...     0.0        0.0             0.0  0.0   0.0     0.0    0.0  0.0   \n2     ...     0.0        0.0             0.0  0.0   0.0     0.0    0.0  0.0   \n3     ...     0.0        0.0             0.0  0.0   0.0     0.0    0.0  0.0   \n4     ...     0.0        0.0             0.0  0.0   0.0     0.0    0.0  0.0   \n...   ...     ...        ...             ...  ...   ...     ...    ...  ...   \n4995  ...     0.0        0.0             0.0  0.0   0.0     0.0    0.0  0.0   \n4996  ...     0.0        0.0             0.0  0.0   0.0     0.0    0.0  0.0   \n4997  ...     0.0        0.0             0.0  0.0   0.0     0.0    0.0  0.0   \n4998  ...     0.0        0.0             0.0  0.0   0.0     0.0    0.0  0.0   \n4999  ...     0.0        0.0             0.0  0.0   0.0     0.0    0.0  0.0   \n\n      ﬂexible  𝟘𝟙𝟚𝟛𝟜𝟝𝟞𝟟𝟠𝟡  \n0         0.0         0.0  \n1         0.0         0.0  \n2         0.0         0.0  \n3         0.0         0.0  \n4         0.0         0.0  \n...       ...         ...  \n4995      0.0         0.0  \n4996      0.0         0.0  \n4997      0.0         0.0  \n4998      0.0         0.0  \n4999      0.0         0.0  \n\n[5000 rows x 40056 columns]",
      "text/html": "<div>\n<style scoped>\n    .dataframe tbody tr th:only-of-type {\n        vertical-align: middle;\n    }\n\n    .dataframe tbody tr th {\n        vertical-align: top;\n    }\n\n    .dataframe thead th {\n        text-align: right;\n    }\n</style>\n<table border=\"1\" class=\"dataframe\">\n  <thead>\n    <tr style=\"text-align: right;\">\n      <th></th>\n      <th>00</th>\n      <th>000</th>\n      <th>0000</th>\n      <th>00000</th>\n      <th>00000000</th>\n      <th>0000000000000001</th>\n      <th>0000000000000042</th>\n      <th>0000000000000047</th>\n      <th>0000000000000050</th>\n      <th>0000000000000055</th>\n      <th>...</th>\n      <th>привет</th>\n      <th>разведчик</th>\n      <th>стратегический</th>\n      <th>ברי</th>\n      <th>צקלה</th>\n      <th>السلام</th>\n      <th>عليكم</th>\n      <th>दय</th>\n      <th>ﬂexible</th>\n      <th>𝟘𝟙𝟚𝟛𝟜𝟝𝟞𝟟𝟠𝟡</th>\n    </tr>\n  </thead>\n  <tbody>\n    <tr>\n      <th>0</th>\n      <td>0.000000</td>\n      <td>0.0</td>\n      <td>0.0</td>\n      <td>0.0</td>\n      <td>0.0</td>\n      <td>0.0</td>\n      <td>0.0</td>\n      <td>0.0</td>\n      <td>0.0</td>\n      <td>0.0</td>\n      <td>...</td>\n      <td>0.0</td>\n      <td>0.0</td>\n      <td>0.0</td>\n      <td>0.0</td>\n      <td>0.0</td>\n      <td>0.0</td>\n      <td>0.0</td>\n      <td>0.0</td>\n      <td>0.0</td>\n      <td>0.0</td>\n    </tr>\n    <tr>\n      <th>1</th>\n      <td>0.000000</td>\n      <td>0.0</td>\n      <td>0.0</td>\n      <td>0.0</td>\n      <td>0.0</td>\n      <td>0.0</td>\n      <td>0.0</td>\n      <td>0.0</td>\n      <td>0.0</td>\n      <td>0.0</td>\n      <td>...</td>\n      <td>0.0</td>\n      <td>0.0</td>\n      <td>0.0</td>\n      <td>0.0</td>\n      <td>0.0</td>\n      <td>0.0</td>\n      <td>0.0</td>\n      <td>0.0</td>\n      <td>0.0</td>\n      <td>0.0</td>\n    </tr>\n    <tr>\n      <th>2</th>\n      <td>0.000000</td>\n      <td>0.0</td>\n      <td>0.0</td>\n      <td>0.0</td>\n      <td>0.0</td>\n      <td>0.0</td>\n      <td>0.0</td>\n      <td>0.0</td>\n      <td>0.0</td>\n      <td>0.0</td>\n      <td>...</td>\n      <td>0.0</td>\n      <td>0.0</td>\n      <td>0.0</td>\n      <td>0.0</td>\n      <td>0.0</td>\n      <td>0.0</td>\n      <td>0.0</td>\n      <td>0.0</td>\n      <td>0.0</td>\n      <td>0.0</td>\n    </tr>\n    <tr>\n      <th>3</th>\n      <td>0.000000</td>\n      <td>0.0</td>\n      <td>0.0</td>\n      <td>0.0</td>\n      <td>0.0</td>\n      <td>0.0</td>\n      <td>0.0</td>\n      <td>0.0</td>\n      <td>0.0</td>\n      <td>0.0</td>\n      <td>...</td>\n      <td>0.0</td>\n      <td>0.0</td>\n      <td>0.0</td>\n      <td>0.0</td>\n      <td>0.0</td>\n      <td>0.0</td>\n      <td>0.0</td>\n      <td>0.0</td>\n      <td>0.0</td>\n      <td>0.0</td>\n    </tr>\n    <tr>\n      <th>4</th>\n      <td>0.275394</td>\n      <td>0.0</td>\n      <td>0.0</td>\n      <td>0.0</td>\n      <td>0.0</td>\n      <td>0.0</td>\n      <td>0.0</td>\n      <td>0.0</td>\n      <td>0.0</td>\n      <td>0.0</td>\n      <td>...</td>\n      <td>0.0</td>\n      <td>0.0</td>\n      <td>0.0</td>\n      <td>0.0</td>\n      <td>0.0</td>\n      <td>0.0</td>\n      <td>0.0</td>\n      <td>0.0</td>\n      <td>0.0</td>\n      <td>0.0</td>\n    </tr>\n    <tr>\n      <th>...</th>\n      <td>...</td>\n      <td>...</td>\n      <td>...</td>\n      <td>...</td>\n      <td>...</td>\n      <td>...</td>\n      <td>...</td>\n      <td>...</td>\n      <td>...</td>\n      <td>...</td>\n      <td>...</td>\n      <td>...</td>\n      <td>...</td>\n      <td>...</td>\n      <td>...</td>\n      <td>...</td>\n      <td>...</td>\n      <td>...</td>\n      <td>...</td>\n      <td>...</td>\n      <td>...</td>\n    </tr>\n    <tr>\n      <th>4995</th>\n      <td>0.000000</td>\n      <td>0.0</td>\n      <td>0.0</td>\n      <td>0.0</td>\n      <td>0.0</td>\n      <td>0.0</td>\n      <td>0.0</td>\n      <td>0.0</td>\n      <td>0.0</td>\n      <td>0.0</td>\n      <td>...</td>\n      <td>0.0</td>\n      <td>0.0</td>\n      <td>0.0</td>\n      <td>0.0</td>\n      <td>0.0</td>\n      <td>0.0</td>\n      <td>0.0</td>\n      <td>0.0</td>\n      <td>0.0</td>\n      <td>0.0</td>\n    </tr>\n    <tr>\n      <th>4996</th>\n      <td>0.000000</td>\n      <td>0.0</td>\n      <td>0.0</td>\n      <td>0.0</td>\n      <td>0.0</td>\n      <td>0.0</td>\n      <td>0.0</td>\n      <td>0.0</td>\n      <td>0.0</td>\n      <td>0.0</td>\n      <td>...</td>\n      <td>0.0</td>\n      <td>0.0</td>\n      <td>0.0</td>\n      <td>0.0</td>\n      <td>0.0</td>\n      <td>0.0</td>\n      <td>0.0</td>\n      <td>0.0</td>\n      <td>0.0</td>\n      <td>0.0</td>\n    </tr>\n    <tr>\n      <th>4997</th>\n      <td>0.000000</td>\n      <td>0.0</td>\n      <td>0.0</td>\n      <td>0.0</td>\n      <td>0.0</td>\n      <td>0.0</td>\n      <td>0.0</td>\n      <td>0.0</td>\n      <td>0.0</td>\n      <td>0.0</td>\n      <td>...</td>\n      <td>0.0</td>\n      <td>0.0</td>\n      <td>0.0</td>\n      <td>0.0</td>\n      <td>0.0</td>\n      <td>0.0</td>\n      <td>0.0</td>\n      <td>0.0</td>\n      <td>0.0</td>\n      <td>0.0</td>\n    </tr>\n    <tr>\n      <th>4998</th>\n      <td>0.000000</td>\n      <td>0.0</td>\n      <td>0.0</td>\n      <td>0.0</td>\n      <td>0.0</td>\n      <td>0.0</td>\n      <td>0.0</td>\n      <td>0.0</td>\n      <td>0.0</td>\n      <td>0.0</td>\n      <td>...</td>\n      <td>0.0</td>\n      <td>0.0</td>\n      <td>0.0</td>\n      <td>0.0</td>\n      <td>0.0</td>\n      <td>0.0</td>\n      <td>0.0</td>\n      <td>0.0</td>\n      <td>0.0</td>\n      <td>0.0</td>\n    </tr>\n    <tr>\n      <th>4999</th>\n      <td>0.000000</td>\n      <td>0.0</td>\n      <td>0.0</td>\n      <td>0.0</td>\n      <td>0.0</td>\n      <td>0.0</td>\n      <td>0.0</td>\n      <td>0.0</td>\n      <td>0.0</td>\n      <td>0.0</td>\n      <td>...</td>\n      <td>0.0</td>\n      <td>0.0</td>\n      <td>0.0</td>\n      <td>0.0</td>\n      <td>0.0</td>\n      <td>0.0</td>\n      <td>0.0</td>\n      <td>0.0</td>\n      <td>0.0</td>\n      <td>0.0</td>\n    </tr>\n  </tbody>\n</table>\n<p>5000 rows × 40056 columns</p>\n</div>"
     },
     "execution_count": 110,
     "metadata": {},
     "output_type": "execute_result"
    }
   ]
  },
  {
   "cell_type": "code",
   "source": [
    "most_occurs = [(k, v) for k, v in counts.most_common()[:num_topics]]\n",
    "print(\"most_occurs\", most_occurs)\n",
    "\n",
    "tags = []\n",
    "for item in most_occurs:\n",
    "    tags.append(item[0])\n",
    "tags.remove('#')\n",
    "for item in data_T['tags']:\n",
    "    len_item=len(item)\n",
    "    k=0\n",
    "    while k < len_item:\n",
    "        if (item[k] not in tags):\n",
    "            del item[k]\n",
    "            len_item-=1\n",
    "            k-=1\n",
    "        k+=1\n",
    "    if item==[]:\n",
    "        item.append('other')\n",
    "\n",
    "for k in range(len(data_T)):\n",
    "    data_T['tags'][k]=data_T['tags'][k][0]"
   ],
   "metadata": {
    "collapsed": false,
    "pycharm": {
     "name": "#%%\n"
    }
   },
   "execution_count": null,
   "outputs": []
  },
  {
   "cell_type": "code",
   "source": [
    "cpt=0\n",
    "for k in counts:\n",
    "    cpt+=counts[k]\n",
    "print(cpt)"
   ],
   "metadata": {
    "collapsed": false,
    "pycharm": {
     "name": "#%%\n"
    }
   },
   "execution_count": 111,
   "outputs": []
  },
  {
   "cell_type": "code",
   "source": [
    "data_T"
   ],
   "metadata": {
    "collapsed": false,
    "pycharm": {
     "name": "#%%\n"
    }
   },
   "execution_count": null,
   "outputs": []
  },
  {
   "cell_type": "code",
   "execution_count": 112,
   "outputs": [
    {
     "data": {
      "text/plain": "<Figure size 432x288 with 1 Axes>",
      "image/png": "[encoded data removed]"
     },
     "metadata": {
      "needs_background": "light"
     },
     "output_type": "display_data"
    }
   ],
   "source": [
    "len(tags)"
   ],
   "metadata": {
    "collapsed": false,
    "pycharm": {
     "name": "#%%\n"
    }
   }
  },
  {
   "cell_type": "code",
   "source": [
    "import logging\n",
    "\n",
    "\n",
    "logging.disable(logging.WARNING) # disable WARNING, INFO and DEBUG logging everywhere\n"
   ],
   "metadata": {
    "collapsed": false,
    "pycharm": {
     "name": "#%%\n"
    }
   },
   "execution_count": null,
   "outputs": []
  },
  {
   "cell_type": "markdown",
   "source": [
    "## Lecture dataset"
   ],
   "metadata": {
    "collapsed": false,
    "pycharm": {
     "name": "#%% md\n"
    }
   }
  },
  {
   "cell_type": "code",
   "source": [
    "tags.append('other')\n",
    "l_cat = tags\n",
    "print(\"catégories : \", l_cat)\n",
    "y_cat_num = [(l_cat.index(data_T['tags'][i])) for i in range(len(data_T))]"
   ],
   "metadata": {
    "collapsed": false,
    "pycharm": {
     "name": "#%%\n"
    }
   },
   "execution_count": null,
   "outputs": []
  },
  {
   "cell_type": "code",
   "source": [
    "from nltk.tokenize import sent_tokenize, word_tokenize\n",
    "\n",
    "data_T['length_bow'] = data_T['sentence_bow'].apply(lambda x : len(word_tokenize(x)))\n",
    "print(\"max length bow : \", data_T['length_bow'].max())\n",
    "data_T['length_bow_lem'] = data_T['sentence_bow_lem'].apply(lambda x : len(word_tokenize(x)))\n",
    "print(\"max length bow lem : \", data_T['length_bow_lem'].max())\n",
    "data_T['length_dl'] = data_T['sentence_dl'].apply(lambda x : len(word_tokenize(x)))\n",
    "print(\"max length dl : \", data_T['length_dl'].max())"
   ],
   "metadata": {
    "collapsed": false,
    "pycharm": {
     "name": "#%%\n"
    }
   },
   "execution_count": 114,
   "outputs": []
  },
  {
   "cell_type": "code",
   "source": [
    "# création du bag of words (CountVectorizer et Tf-idf)\n",
    "\n",
    "from sklearn.feature_extraction.text import CountVectorizer, TfidfVectorizer\n",
    "\n",
    "cvect = CountVectorizer(stop_words='english', max_df=0.95, min_df=1)\n",
    "ctf = TfidfVectorizer(stop_words='english', max_df=0.95, min_df=1)\n",
    "\n",
    "feat = 'sentence_bow_lem'\n",
    "cv_fit = cvect.fit(data_T[feat])\n",
    "ctf_fit = ctf.fit(data_T[feat])\n",
    "\n",
    "cv_transform = cvect.transform(data_T[feat])\n",
    "ctf_transform = ctf.transform(data_T[feat])"
   ],
   "metadata": {
    "collapsed": false,
    "pycharm": {
     "name": "#%%\n"
    }
   },
   "execution_count": null,
   "outputs": []
  },
  {
   "cell_type": "code",
   "source": [
    "df_bowcv=pd.DataFrame(cv_transform.toarray(),columns=cvect.get_feature_names())\n",
    "df_bowcv"
   ],
   "metadata": {
    "collapsed": false,
    "pycharm": {
     "name": "#%%\n"
    }
   },
   "execution_count": 115,
   "outputs": []
  },
  {
   "cell_type": "code",
   "execution_count": 116,
   "outputs": [
    {
     "name": "stdout",
     "output_type": "stream",
     "text": [
      "Build & train Word2Vec model ...\n",
      "Vocabulary size: 29933\n",
      "Word2Vec trained\n"
     ]
    }
   ],
   "source": [
    "df_bowctf=pd.DataFrame(ctf_transform.toarray(),columns=ctf.get_feature_names())\n",
    "df_bowctf"
   ],
   "metadata": {
    "collapsed": false,
    "pycharm": {
     "name": "#%%\n"
    }
   }
  },
  {
   "cell_type": "markdown",
   "source": [
    "Fonction pour réaliser l'ACP"
   ],
   "metadata": {
    "collapsed": false,
    "pycharm": {
     "name": "#%% md\n"
    }
   }
  },
  {
   "cell_type": "code",
   "source": [
    "def display_scree_plot(pca):\n",
    "    scree = pca.explained_variance_ratio_*100\n",
    "    plt.bar(np.arange(len(scree))+1, scree)\n",
    "    plt.plot(np.arange(len(scree))+1, scree.cumsum(),c=\"red\",marker='o')\n",
    "    plt.xlabel(\"rang de l'axe d'inertie\")\n",
    "    plt.ylabel(\"pourcentage d'inertie\")\n",
    "    plt.title(\"Eboulis des valeurs propres\")\n",
    "    plt.show(block=False)"
   ],
   "metadata": {
    "collapsed": false,
    "pycharm": {
     "name": "#%%\n"
    }
   },
   "execution_count": null,
   "outputs": []
  },
  {
   "cell_type": "markdown",
   "source": [
    "ACP pour le bag of words CountVectorizer"
   ],
   "metadata": {
    "collapsed": false,
    "pycharm": {
     "name": "#%% md\n"
    }
   }
  },
  {
   "cell_type": "code",
   "source": [
    "from sklearn import decomposition\n",
    "from sklearn import preprocessing\n",
    "\n",
    "\n",
    "# choix du nombre de composantes à calculer\n",
    "\n",
    "\n",
    "# préparation des données pour l'ACP\n",
    "X = df_bowcv.values\n",
    "features = df_bowcv.columns\n",
    "\n",
    "# Centrage et Réduction\n",
    "std_scale = preprocessing.StandardScaler().fit(X)\n",
    "X_scaledcv = std_scale.transform(X)\n",
    "\n",
    "# Calcul des composantes principales\n",
    "pcacv = decomposition.PCA()\n",
    "pcacv.fit_transform(X_scaledcv)\n",
    "\n",
    "# Eboulis des valeurs propres\n",
    "display_scree_plot(pcacv)\n",
    "\n",
    "plt.show()"
   ],
   "metadata": {
    "collapsed": false,
    "pycharm": {
     "name": "#%%\n"
    }
   },
   "execution_count": null,
   "outputs": []
  },
  {
   "cell_type": "markdown",
   "source": [
    "ACP pour le bag of words Tf-idf"
   ],
   "metadata": {
    "collapsed": false,
    "pycharm": {
     "name": "#%% md\n"
    }
   }
  },
  {
   "cell_type": "code",
   "source": [
    "from sklearn import decomposition\n",
    "from sklearn import preprocessing\n",
    "\n",
    "\n",
    "# choix du nombre de composantes à calculer\n",
    "\n",
    "\n",
    "# préparation des données pour l'ACP\n",
    "X = df_bowctf.values\n",
    "features = df_bowctf.columns\n",
    "\n",
    "# Centrage et Réduction\n",
    "std_scale = preprocessing.StandardScaler().fit(X)\n",
    "X_scaledctf = std_scale.transform(X)\n",
    "\n",
    "# Calcul des composantes principales\n",
    "pcactf = decomposition.PCA()\n",
    "pcactf.fit_transform(X_scaledctf)\n",
    "\n",
    "# Eboulis des valeurs propres\n",
    "display_scree_plot(pcactf)\n",
    "\n",
    "plt.show()"
   ],
   "metadata": {
    "collapsed": false,
    "pycharm": {
     "name": "#%%\n"
    }
   },
   "execution_count": 120,
   "outputs": [
    {
     "name": "stdout",
     "output_type": "stream",
     "text": [
      "157/157 [==============================] - 0s 2ms/step\b\b\b\b\b\b\b\b\b\b\b\b\b\b\b\b\b\b\b\b\b\b\b\b\b\b\b\b\b\b\b\b\b\b\b\b\b\b\b\b\b\b\b\b\b\b\b\b\b\b\b\b\b\b\b\b\b\b\b\b\b\b\b\b\b\b\b\b\b\b\b\b\b\b\b\b\b\b\b\b\b\b\b\b\b\b\b\b\b\b\b\b\b\b\b\b\b\b\b\b\b\b\b\b\b\b\b\b\b\b\b\b\b\b\b\b\b\b\b\b\b\b\b\b\b\b\b\b\b\b\b\b\b\b\b\b\b\b\b\b\b\b\b\b\b\b\b\b\b\b\b\b\b\b\b\b\b\b\b\b\b\b\b\b\b\b\b\b\b\b\b\b\b\b\b\b\b\b\b\b\b\b\b\b\b\b\b\b\b\b\b\b\b\b\b\b\b\b\b\b\b\b\b\b\b\b\b\b\b\b\b\b\b\b\b\b\b\b\b\b\b\b\b\b\b\b\b\b\b\b\b\b\b\b\b\b\b\b\b\b\b\b\b\b\b\b\b\b\b\b\b\b\b\b\b\b\b\b\b\b\b\b\b\b\b\b\b\b\b\b\b\b\b\b\b\b\b\b\b\b\b\b\b\b\b\b\b\b\b\b\b\b\b\b\b\b\b\b\b\b\b\b\b\b\b\b\b\b\b\b\b\b\b\b\b\b\b\b\b\b\b\b\b\b\b\b\b\b\b\b\b\b\b\b\b\b\b\b\b\b\b\b\b\b\b\b\n"
     ]
    },
    {
     "data": {
      "text/plain": "(5000, 500)"
     },
     "execution_count": 120,
     "metadata": {},
     "output_type": "execute_result"
    }
   ]
  },
  {
   "cell_type": "markdown",
   "source": [
    "## Export du DataFrame"
   ],
   "metadata": {
    "collapsed": false,
    "pycharm": {
     "name": "#%% md\n"
    }
   }
  },
  {
   "cell_type": "code",
   "source": [
    "data_T.dropna(axis=0,inplace=True)"
   ],
   "metadata": {
    "collapsed": false,
    "pycharm": {
     "name": "#%%\n"
    }
   },
   "execution_count": 121,
   "outputs": []
  },
  {
   "cell_type": "code",
   "source": [
    "data_T.isnull().mean()"
   ],
   "metadata": {
    "collapsed": false,
    "pycharm": {
     "name": "#%%\n"
    }
   },
   "execution_count": 122,
   "outputs": [
    {
     "name": "stdout",
     "output_type": "stream",
     "text": [
      "2.9.0\n",
      "2.9.0\n",
      "Num GPUs Available:  0\n",
      "True\n"
     ]
    }
   ]
  },
  {
   "cell_type": "code",
   "source": [
    "data_T.to_csv('C://Users//antoi//Dropbox//PC//Desktop//Projet 5//data_T.csv')"
   ],
   "metadata": {
    "collapsed": false,
    "pycharm": {
     "name": "#%%\n"
    }
   },
   "execution_count": null,
   "outputs": []
  },
  {
   "cell_type": "code",
   "execution_count": 123,
   "outputs": [],
   "source": [
    "import pyLDAvis.gensim as gensimvis\n",
    "import pyLDAvis\n",
    "# Visualize the topics\n",
    "pyLDAvis.enable_notebook(local=True)\n",
    "\n",
    "\n",
    "vis=gensimvis.prepare(lda_model, corpus, id2word)\n",
    "pyLDAvis.show(vis,local=False)"
   ],
   "metadata": {
    "collapsed": false,
    "pycharm": {
     "name": "#%%\n"
    }
   }
  }
 ],
 "metadata": {
  "kernelspec": {
   "name": "pycharm-4b71e1ff",
   "language": "python",
   "display_name": "PyCharm (Projet 5)"
  },
  "language_info": {
   "codemirror_mode": {
    "name": "ipython",
    "version": 2
   },
   "file_extension": ".py",
   "mimetype": "text/x-python",
   "name": "python",
   "nbconvert_exporter": "python",
   "pygments_lexer": "ipython2",
   "version": "2.7.6"
  }
 },
 "nbformat": 4,
 "nbformat_minor": 0
}