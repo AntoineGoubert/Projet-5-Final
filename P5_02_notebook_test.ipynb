{
 "cells": [
  {
   "cell_type": "code",
   "execution_count": 1,
   "outputs": [],
   "source": [
    "import pandas as pd\n",
    "import numpy as np\n",
    "\n",
    "data_T=pd.read_csv('C://Users//antoi//Dropbox//PC//Desktop//Projet 5//data_T.csv')\n",
    "data=pd.read_csv('C://Users//antoi//Dropbox//PC//Desktop//Projet 5//data.csv')\n",
    "X_scaledcv=np.loadtxt('X_scaledcv.csv', delimiter=\",\")\n",
    "X_scaledctf=np.loadtxt('X_scaledctf.csv', delimiter=\",\")\n",
    "embeddings=np.loadtxt('embeddings.csv', delimiter=\",\")\n",
    "features_bert=np.loadtxt('features_bert.csv', delimiter=\",\")\n",
    "features_USE=np.loadtxt('features_USE', delimiter=\",\")"
   ],
   "metadata": {
    "collapsed": false,
    "pycharm": {
     "name": "#%%\n"
    }
   }
  },
  {
   "cell_type": "code",
   "execution_count": 2,
   "outputs": [],
   "source": [
    "list_of_all_tags = []\n",
    "for item in data_T['tags']:\n",
    "    list_of_all_tags.append(item)\n",
    "\n",
    "tags=np.unique(list_of_all_tags)"
   ],
   "metadata": {
    "collapsed": false,
    "pycharm": {
     "name": "#%%\n"
    }
   }
  },
  {
   "cell_type": "code",
   "execution_count": 3,
   "outputs": [
    {
     "data": {
      "text/plain": "array(['.net', 'algorithm', 'android', 'api', 'c', 'c++', 'cocoa', 'com',\n       'css', 'date', 'django', 'file', 'git', 'html', 'http', 'image',\n       'int', 'ios', 'iphone', 'java', 'jquery', 'linux', 'map', 'memory',\n       'multithreading', 'object', 'oop', 'orm', 'other', 'pac', 'php',\n       'process', 'python', 'ram', 'ruby', 'spring', 'sql', 'string',\n       'testing', 'view', 'visual-studio', 'window', 'xcode'],\n      dtype='<U14')"
     },
     "execution_count": 3,
     "metadata": {},
     "output_type": "execute_result"
    }
   ],
   "source": [
    "tags\n"
   ],
   "metadata": {
    "collapsed": false,
    "pycharm": {
     "name": "#%%\n"
    }
   }
  },
  {
   "cell_type": "code",
   "execution_count": 4,
   "outputs": [],
   "source": [
    "import pickle\n",
    "import time\n",
    "from sklearn import cluster, metrics\n",
    "from sklearn import manifold, decomposition\n",
    "import logging\n",
    "\n",
    "\n",
    "logging.disable(logging.WARNING) # disable WARNING, INFO and DEBUG logging everywhere\n"
   ],
   "metadata": {
    "collapsed": false,
    "pycharm": {
     "name": "#%%\n"
    }
   }
  },
  {
   "cell_type": "markdown",
   "source": [
    "## Lecture dataset"
   ],
   "metadata": {
    "collapsed": false
   }
  },
  {
   "cell_type": "code",
   "execution_count": 5,
   "outputs": [
    {
     "name": "stdout",
     "output_type": "stream",
     "text": [
      "catégories :  ['.net', 'algorithm', 'android', 'api', 'c', 'c++', 'cocoa', 'com', 'css', 'date', 'django', 'file', 'git', 'html', 'http', 'image', 'int', 'ios', 'iphone', 'java', 'jquery', 'linux', 'map', 'memory', 'multithreading', 'object', 'oop', 'orm', 'other', 'pac', 'php', 'process', 'python', 'ram', 'ruby', 'spring', 'sql', 'string', 'testing', 'view', 'visual-studio', 'window', 'xcode']\n"
     ]
    }
   ],
   "source": [
    "l_cat = tags.tolist()\n",
    "print(\"catégories : \", l_cat)\n",
    "y_cat_num = [(l_cat.index(data_T['tags'][i])) for i in range(len(data_T))]"
   ],
   "metadata": {
    "collapsed": false,
    "pycharm": {
     "name": "#%%\n"
    }
   }
  },
  {
   "cell_type": "markdown",
   "source": [
    "## Fonctions de tests"
   ],
   "metadata": {
    "collapsed": false
   }
  },
  {
   "cell_type": "code",
   "execution_count": 6,
   "outputs": [],
   "source": [
    "import pickle\n",
    "import time\n",
    "from sklearn import cluster, metrics\n",
    "from sklearn import manifold, decomposition\n",
    "import logging\n",
    "import time\n",
    "import sklearn.naive_bayes\n",
    "import matplotlib.pyplot as plt\n",
    "from sklearn.model_selection import train_test_split\n",
    "from sklearn.tree import DecisionTreeClassifier\n",
    "from sklearn.neighbors import KNeighborsClassifier\n",
    "from sklearn.ensemble import RandomForestClassifier\n",
    "\n",
    "# Calcul Tsne, détermination des clusters et calcul ARI entre vrais catégorie et n° de clusters\n",
    "def ARI_fct_Unsupervised(features) :\n",
    "    time1 = time.time()\n",
    "    num_labels=len(l_cat)\n",
    "    tsne = manifold.TSNE(n_components=2, perplexity=30, n_iter=2000,\n",
    "                                 init='random', learning_rate=200, random_state=42)\n",
    "    X_tsne = tsne.fit_transform(features)\n",
    "\n",
    "    x_train,x_test,y_train,y_test=train_test_split(X_tsne,data_T['tags'].values,test_size=0.25)\n",
    "    # Détermination des clusters à partir des données après Tsne\n",
    "    cls = cluster.KMeans(n_clusters=num_labels, n_init=100, random_state=42)\n",
    "    cls.fit(x_train,y_train)\n",
    "    ARI = 100*abs(np.round(np.mean(y_test==cls.predict(x_test)),4))\n",
    "    print(cls.predict(x_test))\n",
    "    time2 = np.round(time.time() - time1,0)\n",
    "    print(\"ARI : \", ARI, \"time : \", time2)\n",
    "\n",
    "    return ARI, X_tsne, cls.labels_\n",
    "\n",
    "def ARI_fct_bayes(features) :\n",
    "    time1 = time.time()\n",
    "    tsne = manifold.TSNE(n_components=2, perplexity=30, n_iter=2000,\n",
    "                                 init='random', learning_rate=200, random_state=42)\n",
    "    X_tsne = tsne.fit_transform(features)\n",
    "\n",
    "    x_train,x_test,y_train,y_test=train_test_split(X_tsne,data_T['tags'].values,test_size=0.25)\n",
    "    # Détermination des clusters à partir des données après Tsne\n",
    "    cls = sklearn.naive_bayes.BernoulliNB()\n",
    "    cls.fit(x_train,y_train)\n",
    "    ARI = 100*abs(np.round(np.mean(y_test==cls.predict(x_test)),4))\n",
    "    print(cls.predict(x_test))\n",
    "    time2 = np.round(time.time() - time1,0)\n",
    "    print(\"ARI : \", ARI, \"time : \", time2)\n",
    "\n",
    "    return ARI, X_tsne, cls.classes_, cls\n",
    "\n",
    "def ARI_fct_DecTree(features) :\n",
    "    time1 = time.time()\n",
    "    tsne = manifold.TSNE(n_components=2, perplexity=30, n_iter=2000,\n",
    "                                 init='random', learning_rate=200, random_state=42)\n",
    "    X_tsne = tsne.fit_transform(features)\n",
    "\n",
    "    x_train,x_test,y_train,y_test=train_test_split(X_tsne,data_T['tags'].values,test_size=0.25)\n",
    "    # Détermination des clusters à partir des données après Tsne\n",
    "    cls = sklearn.tree.DecisionTreeClassifier()\n",
    "    cls.fit(x_train,y_train)\n",
    "    ARI = 100*abs(np.round(np.mean(y_test==cls.predict(x_test)),4))\n",
    "    print(cls.predict(x_test))\n",
    "    time2 = np.round(time.time() - time1,0)\n",
    "    print(\"ARI : \", ARI, \"time : \", time2)\n",
    "\n",
    "    return ARI, X_tsne, cls.classes_, cls\n",
    "\n",
    "\n",
    "def ARI_fct_KNeighbors(features) :\n",
    "    time1 = time.time()\n",
    "    num_labels=len(l_cat)\n",
    "    tsne = manifold.TSNE(n_components=2, perplexity=30, n_iter=2000,\n",
    "                                 init='random', learning_rate=200, random_state=42)\n",
    "    X_tsne = tsne.fit_transform(features)\n",
    "\n",
    "    x_train,x_test,y_train,y_test=train_test_split(X_tsne,data_T['tags'].values,test_size=0.25)\n",
    "    # Détermination des clusters à partir des données après Tsne\n",
    "    cls = sklearn.neighbors.KNeighborsClassifier(n_neighbors=num_labels)\n",
    "    cls.fit(x_train,y_train)\n",
    "    ARI = 100*abs(np.round(np.mean(y_test==cls.predict(x_test)),4))\n",
    "    print(cls.predict(x_test))\n",
    "    time2 = np.round(time.time() - time1,0)\n",
    "    print(\"ARI : \", ARI, \"time : \", time2)\n",
    "\n",
    "    return ARI, X_tsne, cls.classes_, cls\n",
    "\n",
    "def ARI_fct_Forest(features) :\n",
    "    time1 = time.time()\n",
    "    tsne = manifold.TSNE(n_components=2, perplexity=30, n_iter=2000,\n",
    "                                 init='random', learning_rate=200, random_state=42)\n",
    "    X_tsne = tsne.fit_transform(features)\n",
    "\n",
    "    x_train,x_test,y_train,y_test=train_test_split(X_tsne,data_T['tags'].values,test_size=0.25)\n",
    "    # Détermination des clusters à partir des données après Tsne\n",
    "    cls = sklearn.ensemble.RandomForestClassifier()\n",
    "    cls.fit(x_train,y_train)\n",
    "    ARI = 100*abs(np.round(np.mean(y_test==cls.predict(x_test)),4))\n",
    "    print(cls.predict(x_test))\n",
    "    time2 = np.round(time.time() - time1,0)\n",
    "    print(\"ARI : \", ARI, \"time : \", time2)\n",
    "\n",
    "    return ARI, X_tsne, cls.classes_, cls\n",
    "\n",
    "\n",
    "# visualisation du Tsne selon les vraies catégories et selon les clusters\n",
    "def TSNE_visu_fct(X_tsne, y_cat_num, labels, ARI) :\n",
    "    fig = plt.figure(figsize=(15,6))\n",
    "\n",
    "    ax = fig.add_subplot(121)\n",
    "    scatter = ax.scatter(X_tsne[:,0],X_tsne[:,1], c=y_cat_num, cmap='Set1')\n",
    "    ax.legend(handles=scatter.legend_elements()[0], labels=l_cat, loc=\"best\", title=\"Categorie\")\n",
    "    plt.title('Représentation des tags par catégories réelles')\n",
    "\n",
    "    ax = fig.add_subplot(122)\n",
    "    scatter = ax.scatter(X_tsne[:,0],X_tsne[:,1], c=labels, cmap='Set1')\n",
    "    ax.legend(handles=scatter.legend_elements()[0], labels=set(labels), loc=\"best\", title=\"Clusters\")\n",
    "    plt.title('Représentation des tags par clusters')\n",
    "\n",
    "    plt.show()\n",
    "    print(\"ARI : \", ARI)"
   ],
   "metadata": {
    "collapsed": false,
    "pycharm": {
     "name": "#%%\n"
    }
   }
  },
  {
   "cell_type": "code",
   "execution_count": 7,
   "outputs": [],
   "source": [
    "scores=pd.DataFrame(columns=['CountVectorized','Tf-idf','Word2Vec','BERT','USE'],index=['Unsuppervised','NaiveBayes','DecisionTree','KNeighbours','RandomForest'])"
   ],
   "metadata": {
    "collapsed": false,
    "pycharm": {
     "name": "#%%\n"
    }
   }
  },
  {
   "cell_type": "markdown",
   "source": [
    "# Unsuppervised"
   ],
   "metadata": {
    "collapsed": false
   }
  },
  {
   "cell_type": "code",
   "execution_count": 8,
   "outputs": [
    {
     "name": "stdout",
     "output_type": "stream",
     "text": [
      "[39 14 11 ...  5 37 28]\n",
      "ARI :  0.0 time :  38.0\n"
     ]
    }
   ],
   "source": [
    "ARI, X_tsne, labels=ARI_fct_Unsupervised(X_scaledcv)\n",
    "scores['CountVectorized']['Unsuppervised']=ARI"
   ],
   "metadata": {
    "collapsed": false,
    "pycharm": {
     "name": "#%%\n"
    }
   }
  },
  {
   "cell_type": "code",
   "execution_count": 9,
   "outputs": [
    {
     "name": "stdout",
     "output_type": "stream",
     "text": [
      "[31 29 39 ... 30  4 38]\n",
      "ARI :  0.0 time :  35.0\n"
     ]
    }
   ],
   "source": [
    "ARI, X_tsne, labels=ARI_fct_Unsupervised(X_scaledctf)\n",
    "scores['Tf-idf']['Unsuppervised']=ARI"
   ],
   "metadata": {
    "collapsed": false,
    "pycharm": {
     "name": "#%%\n"
    }
   }
  },
  {
   "cell_type": "code",
   "execution_count": 10,
   "outputs": [
    {
     "name": "stdout",
     "output_type": "stream",
     "text": [
      "[18 27  3 ... 25 15 31]\n",
      "ARI :  0.0 time :  29.0\n"
     ]
    }
   ],
   "source": [
    "ARI, X_tsne, labels=ARI_fct_Unsupervised(embeddings)\n",
    "scores['Word2Vec']['Unsuppervised']=ARI"
   ],
   "metadata": {
    "collapsed": false,
    "pycharm": {
     "name": "#%%\n"
    }
   }
  },
  {
   "cell_type": "code",
   "execution_count": 11,
   "outputs": [
    {
     "name": "stdout",
     "output_type": "stream",
     "text": [
      "[23 29 20 ... 20 30 41]\n",
      "ARI :  0.0 time :  28.0\n"
     ]
    }
   ],
   "source": [
    "ARI, X_tsne, labels=ARI_fct_Unsupervised(features_bert)\n",
    "scores['BERT']['Unsuppervised']=ARI"
   ],
   "metadata": {
    "collapsed": false,
    "pycharm": {
     "name": "#%%\n"
    }
   }
  },
  {
   "cell_type": "code",
   "execution_count": 12,
   "outputs": [
    {
     "name": "stdout",
     "output_type": "stream",
     "text": [
      "[16 27 18 ... 36  8 32]\n",
      "ARI :  0.0 time :  25.0\n"
     ]
    }
   ],
   "source": [
    "ARI, X_tsne, labels=ARI_fct_Unsupervised(features_USE)\n",
    "scores['USE']['Unsuppervised']=ARI"
   ],
   "metadata": {
    "collapsed": false,
    "pycharm": {
     "name": "#%%\n"
    }
   }
  },
  {
   "cell_type": "markdown",
   "source": [
    "# CountVectorizer"
   ],
   "metadata": {
    "collapsed": false
   }
  },
  {
   "cell_type": "code",
   "execution_count": 13,
   "outputs": [
    {
     "name": "stdout",
     "output_type": "stream",
     "text": [
      "CountVectorizer : \n",
      "-----------------\n",
      "['other' 'other' 'other' ... 'other' 'other' 'other']\n",
      "ARI :  20.48 time :  29.0\n",
      "\n"
     ]
    }
   ],
   "source": [
    "print(\"CountVectorizer : \")\n",
    "print(\"-----------------\")\n",
    "ARI, X_tsne, labels, cls = ARI_fct_bayes(X_scaledcv)\n",
    "print()\n",
    "scores['CountVectorized']['NaiveBayes']=ARI"
   ],
   "metadata": {
    "collapsed": false,
    "pycharm": {
     "name": "#%%\n"
    }
   }
  },
  {
   "cell_type": "code",
   "execution_count": 14,
   "outputs": [
    {
     "name": "stdout",
     "output_type": "stream",
     "text": [
      "CountVectorizer : \n",
      "-----------------\n",
      "['iphone' 'other' 'other' ... 'c' 'other' 'c']\n",
      "ARI :  12.24 time :  29.0\n",
      "\n"
     ]
    }
   ],
   "source": [
    "print(\"CountVectorizer : \")\n",
    "print(\"-----------------\")\n",
    "ARI, X_tsne, labels, cls = ARI_fct_DecTree(X_scaledcv)\n",
    "print()\n",
    "scores['CountVectorized']['DecisionTree']=ARI"
   ],
   "metadata": {
    "collapsed": false,
    "pycharm": {
     "name": "#%%\n"
    }
   }
  },
  {
   "cell_type": "code",
   "execution_count": 15,
   "outputs": [
    {
     "name": "stdout",
     "output_type": "stream",
     "text": [
      "CountVectorizer : \n",
      "-----------------\n",
      "['other' 'java' 'other' ... 'c' 'other' 'java']\n",
      "ARI :  19.439999999999998 time :  29.0\n",
      "\n"
     ]
    }
   ],
   "source": [
    "print(\"CountVectorizer : \")\n",
    "print(\"-----------------\")\n",
    "ARI, X_tsne, labels, cls = ARI_fct_KNeighbors(X_scaledcv)\n",
    "print()\n",
    "scores['CountVectorized']['KNeighbours']=ARI"
   ],
   "metadata": {
    "collapsed": false,
    "pycharm": {
     "name": "#%%\n"
    }
   }
  },
  {
   "cell_type": "code",
   "execution_count": 16,
   "outputs": [
    {
     "name": "stdout",
     "output_type": "stream",
     "text": [
      "CountVectorizer : \n",
      "-----------------\n",
      "['memory' 'django' 'php' ... 'linux' 'jquery' 'c']\n",
      "ARI :  14.399999999999999 time :  29.0\n",
      "\n"
     ]
    }
   ],
   "source": [
    "print(\"CountVectorizer : \")\n",
    "print(\"-----------------\")\n",
    "ARI, X_tsne, labels, cls = ARI_fct_Forest(X_scaledcv)\n",
    "print()\n",
    "scores['CountVectorized']['RandomForest']=ARI"
   ],
   "metadata": {
    "collapsed": false,
    "pycharm": {
     "name": "#%%\n"
    }
   }
  },
  {
   "cell_type": "markdown",
   "source": [
    "# Tf-idf"
   ],
   "metadata": {
    "collapsed": false
   }
  },
  {
   "cell_type": "code",
   "execution_count": 17,
   "outputs": [
    {
     "name": "stdout",
     "output_type": "stream",
     "text": [
      "Tf-idf : \n",
      "--------\n",
      "['other' 'other' 'other' ... 'other' 'other' 'other']\n",
      "ARI :  21.759999999999998 time :  29.0\n"
     ]
    }
   ],
   "source": [
    "print(\"Tf-idf : \")\n",
    "print(\"--------\")\n",
    "ARI, X_tsne, labels, cls = ARI_fct_bayes(X_scaledctf)\n",
    "scores['Tf-idf']['NaiveBayes']=ARI"
   ],
   "metadata": {
    "collapsed": false,
    "pycharm": {
     "name": "#%%\n"
    }
   }
  },
  {
   "cell_type": "code",
   "execution_count": 18,
   "outputs": [
    {
     "name": "stdout",
     "output_type": "stream",
     "text": [
      "Tf-idf : \n",
      "--------\n",
      "['iphone' 'jquery' 'php' ... 'ios' 'c++' 'python']\n",
      "ARI :  11.12 time :  29.0\n"
     ]
    }
   ],
   "source": [
    "print(\"Tf-idf : \")\n",
    "print(\"--------\")\n",
    "ARI, X_tsne, labels, cls = ARI_fct_DecTree(X_scaledctf)\n",
    "scores['Tf-idf']['DecisionTree']=ARI"
   ],
   "metadata": {
    "collapsed": false,
    "pycharm": {
     "name": "#%%\n"
    }
   }
  },
  {
   "cell_type": "code",
   "execution_count": 19,
   "outputs": [
    {
     "name": "stdout",
     "output_type": "stream",
     "text": [
      "Tf-idf : \n",
      "--------\n",
      "['other' 'other' 'other' ... 'other' 'other' 'c']\n",
      "ARI :  19.36 time :  29.0\n"
     ]
    }
   ],
   "source": [
    "print(\"Tf-idf : \")\n",
    "print(\"--------\")\n",
    "ARI, X_tsne, labels, cls = ARI_fct_KNeighbors(X_scaledctf)\n",
    "scores['Tf-idf']['KNeighbours']=ARI"
   ],
   "metadata": {
    "collapsed": false,
    "pycharm": {
     "name": "#%%\n"
    }
   }
  },
  {
   "cell_type": "code",
   "execution_count": 20,
   "outputs": [
    {
     "name": "stdout",
     "output_type": "stream",
     "text": [
      "Tf-idf : \n",
      "--------\n",
      "['other' 'python' 'sql' ... 'ios' 'c' 'other']\n",
      "ARI :  16.32 time :  30.0\n"
     ]
    }
   ],
   "source": [
    "print(\"Tf-idf : \")\n",
    "print(\"--------\")\n",
    "ARI, X_tsne, labels, cls = ARI_fct_Forest(X_scaledctf)\n",
    "scores['Tf-idf']['RandomForest']=ARI"
   ],
   "metadata": {
    "collapsed": false,
    "pycharm": {
     "name": "#%%\n"
    }
   }
  },
  {
   "cell_type": "markdown",
   "source": [
    "## Exécution du modèle\n",
    "\n"
   ],
   "metadata": {
    "collapsed": false
   }
  },
  {
   "cell_type": "code",
   "execution_count": 21,
   "outputs": [
    {
     "name": "stdout",
     "output_type": "stream",
     "text": [
      "['c' 'other' 'other' ... 'other' 'other' 'other']\n",
      "ARI :  22.16 time :  24.0\n"
     ]
    }
   ],
   "source": [
    "ARI, X_tsne, labels, cls = ARI_fct_bayes(embeddings)\n",
    "scores['Word2Vec']['NaiveBayes']=ARI"
   ],
   "metadata": {
    "collapsed": false,
    "pycharm": {
     "name": "#%%\n"
    }
   }
  },
  {
   "cell_type": "code",
   "execution_count": 22,
   "outputs": [
    {
     "name": "stdout",
     "output_type": "stream",
     "text": [
      "['iphone' 'other' 'git' ... 'oop' 'java' 'java']\n",
      "ARI :  26.479999999999997 time :  24.0\n"
     ]
    }
   ],
   "source": [
    "ARI, X_tsne, labels, cls = ARI_fct_DecTree(embeddings)\n",
    "scores['Word2Vec']['DecisionTree']=ARI"
   ],
   "metadata": {
    "collapsed": false,
    "pycharm": {
     "name": "#%%\n"
    }
   }
  },
  {
   "cell_type": "code",
   "execution_count": 23,
   "outputs": [
    {
     "name": "stdout",
     "output_type": "stream",
     "text": [
      "['c' 'other' 'python' ... 'java' 'c' 'c++']\n",
      "ARI :  28.08 time :  25.0\n"
     ]
    }
   ],
   "source": [
    "ARI, X_tsne, labels, cls = ARI_fct_KNeighbors(embeddings)\n",
    "scores['Word2Vec']['KNeighbours']=ARI"
   ],
   "metadata": {
    "collapsed": false,
    "pycharm": {
     "name": "#%%\n"
    }
   }
  },
  {
   "cell_type": "code",
   "execution_count": 24,
   "outputs": [
    {
     "name": "stdout",
     "output_type": "stream",
     "text": [
      "['jquery' 'jquery' 'jquery' ... 'other' 'other' 'string']\n",
      "ARI :  30.959999999999997 time :  25.0\n"
     ]
    }
   ],
   "source": [
    "ARI, X_tsne, labels, cls = ARI_fct_Forest(embeddings)\n",
    "scores['Word2Vec']['RandomForest']=ARI"
   ],
   "metadata": {
    "collapsed": false,
    "pycharm": {
     "name": "#%%\n"
    }
   }
  },
  {
   "cell_type": "markdown",
   "source": [
    "# BERT"
   ],
   "metadata": {
    "collapsed": false
   }
  },
  {
   "cell_type": "code",
   "execution_count": 25,
   "outputs": [
    {
     "name": "stdout",
     "output_type": "stream",
     "text": [
      "['other' 'other' 'other' ... 'other' 'other' 'other']\n",
      "ARI :  20.72 time :  23.0\n"
     ]
    }
   ],
   "source": [
    "ARI, X_tsne, labels, cls = ARI_fct_bayes(features_bert)\n",
    "scores['BERT']['NaiveBayes']=ARI"
   ],
   "metadata": {
    "collapsed": false,
    "pycharm": {
     "name": "#%%\n"
    }
   }
  },
  {
   "cell_type": "code",
   "execution_count": 26,
   "outputs": [
    {
     "name": "stdout",
     "output_type": "stream",
     "text": [
      "['other' 'other' 'ios' ... 'jquery' 'c++' 'c++']\n",
      "ARI :  18.64 time :  22.0\n"
     ]
    }
   ],
   "source": [
    "ARI, X_tsne, labels, cls = ARI_fct_DecTree(features_bert)\n",
    "scores['BERT']['DecisionTree']=ARI"
   ],
   "metadata": {
    "collapsed": false,
    "pycharm": {
     "name": "#%%\n"
    }
   }
  },
  {
   "cell_type": "code",
   "execution_count": 27,
   "outputs": [
    {
     "name": "stdout",
     "output_type": "stream",
     "text": [
      "['c' 'sql' 'other' ... 'java' 'other' 'other']\n",
      "ARI :  22.720000000000002 time :  23.0\n"
     ]
    }
   ],
   "source": [
    "ARI, X_tsne, labels, cls = ARI_fct_KNeighbors(features_bert)\n",
    "scores['BERT']['KNeighbours']=ARI"
   ],
   "metadata": {
    "collapsed": false,
    "pycharm": {
     "name": "#%%\n"
    }
   }
  },
  {
   "cell_type": "code",
   "execution_count": 28,
   "outputs": [
    {
     "name": "stdout",
     "output_type": "stream",
     "text": [
      "['iphone' 'c++' 'c' ... 'java' 'python' 'iphone']\n",
      "ARI :  23.84 time :  23.0\n"
     ]
    }
   ],
   "source": [
    "ARI, X_tsne, labels, cls = ARI_fct_Forest(features_bert)\n",
    "scores['BERT']['RandomForest']=ARI"
   ],
   "metadata": {
    "collapsed": false,
    "pycharm": {
     "name": "#%%\n"
    }
   }
  },
  {
   "cell_type": "markdown",
   "source": [
    "# USE"
   ],
   "metadata": {
    "collapsed": false
   }
  },
  {
   "cell_type": "code",
   "execution_count": 29,
   "outputs": [
    {
     "name": "stdout",
     "output_type": "stream",
     "text": [
      "['other' 'ios' 'ios' ... 'other' 'ios' 'ios']\n",
      "ARI :  22.24 time :  21.0\n"
     ]
    }
   ],
   "source": [
    "ARI, X_tsne, labels, cls = ARI_fct_bayes(features_USE)\n",
    "scores['USE']['NaiveBayes']=ARI"
   ],
   "metadata": {
    "collapsed": false,
    "pycharm": {
     "name": "#%%\n"
    }
   }
  },
  {
   "cell_type": "code",
   "execution_count": 30,
   "outputs": [
    {
     "name": "stdout",
     "output_type": "stream",
     "text": [
      "['.net' 'algorithm' 'java' ... 'android' 'other' 'iphone']\n",
      "ARI :  41.839999999999996 time :  22.0\n"
     ]
    }
   ],
   "source": [
    "ARI, X_tsne, labels, cls = ARI_fct_DecTree(features_USE)\n",
    "scores['USE']['DecisionTree']=ARI"
   ],
   "metadata": {
    "collapsed": false,
    "pycharm": {
     "name": "#%%\n"
    }
   }
  },
  {
   "cell_type": "code",
   "execution_count": 31,
   "outputs": [
    {
     "name": "stdout",
     "output_type": "stream",
     "text": [
      "['c' 'other' 'java' ... 'other' 'python' 'c']\n",
      "ARI :  43.36 time :  22.0\n"
     ]
    }
   ],
   "source": [
    "ARI, X_tsne, labels, cls = ARI_fct_KNeighbors(features_USE)\n",
    "scores['USE']['KNeighbours']=ARI"
   ],
   "metadata": {
    "collapsed": false,
    "pycharm": {
     "name": "#%%\n"
    }
   }
  },
  {
   "cell_type": "code",
   "execution_count": 32,
   "outputs": [
    {
     "name": "stdout",
     "output_type": "stream",
     "text": [
      "['python' 'other' 'c' ... 'other' 'python' 'jquery']\n",
      "ARI :  47.68 time :  23.0\n"
     ]
    }
   ],
   "source": [
    "ARI, X_tsne, labels, cls = ARI_fct_Forest(features_USE)\n",
    "scores['USE']['RandomForest']=ARI"
   ],
   "metadata": {
    "collapsed": false,
    "pycharm": {
     "name": "#%%\n"
    }
   }
  },
  {
   "cell_type": "code",
   "execution_count": 33,
   "outputs": [
    {
     "data": {
      "text/plain": "              CountVectorized Tf-idf Word2Vec   BERT    USE\nUnsuppervised             0.0    0.0      0.0    0.0    0.0\nNaiveBayes              20.48  21.76    22.16  20.72  22.24\nDecisionTree            12.24  11.12    26.48  18.64  41.84\nKNeighbours             19.44  19.36    28.08  22.72  43.36\nRandomForest             14.4  16.32    30.96  23.84  47.68",
      "text/html": "<div>\n<style scoped>\n    .dataframe tbody tr th:only-of-type {\n        vertical-align: middle;\n    }\n\n    .dataframe tbody tr th {\n        vertical-align: top;\n    }\n\n    .dataframe thead th {\n        text-align: right;\n    }\n</style>\n<table border=\"1\" class=\"dataframe\">\n  <thead>\n    <tr style=\"text-align: right;\">\n      <th></th>\n      <th>CountVectorized</th>\n      <th>Tf-idf</th>\n      <th>Word2Vec</th>\n      <th>BERT</th>\n      <th>USE</th>\n    </tr>\n  </thead>\n  <tbody>\n    <tr>\n      <th>Unsuppervised</th>\n      <td>0.0</td>\n      <td>0.0</td>\n      <td>0.0</td>\n      <td>0.0</td>\n      <td>0.0</td>\n    </tr>\n    <tr>\n      <th>NaiveBayes</th>\n      <td>20.48</td>\n      <td>21.76</td>\n      <td>22.16</td>\n      <td>20.72</td>\n      <td>22.24</td>\n    </tr>\n    <tr>\n      <th>DecisionTree</th>\n      <td>12.24</td>\n      <td>11.12</td>\n      <td>26.48</td>\n      <td>18.64</td>\n      <td>41.84</td>\n    </tr>\n    <tr>\n      <th>KNeighbours</th>\n      <td>19.44</td>\n      <td>19.36</td>\n      <td>28.08</td>\n      <td>22.72</td>\n      <td>43.36</td>\n    </tr>\n    <tr>\n      <th>RandomForest</th>\n      <td>14.4</td>\n      <td>16.32</td>\n      <td>30.96</td>\n      <td>23.84</td>\n      <td>47.68</td>\n    </tr>\n  </tbody>\n</table>\n</div>"
     },
     "execution_count": 33,
     "metadata": {},
     "output_type": "execute_result"
    }
   ],
   "source": [
    "scores"
   ],
   "metadata": {
    "collapsed": false,
    "pycharm": {
     "name": "#%%\n"
    }
   }
  }
 ],
 "metadata": {
  "kernelspec": {
   "name": "pycharm-4b71e1ff",
   "language": "python",
   "display_name": "PyCharm (Projet 5)"
  },
  "language_info": {
   "codemirror_mode": {
    "name": "ipython",
    "version": 2
   },
   "file_extension": ".py",
   "mimetype": "text/x-python",
   "name": "python",
   "nbconvert_exporter": "python",
   "pygments_lexer": "ipython2",
   "version": "2.7.6"
  }
 },
 "nbformat": 4,
 "nbformat_minor": 0
}